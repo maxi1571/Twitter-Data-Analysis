{
 "cells": [
  {
   "cell_type": "markdown",
   "metadata": {
    "id": "zDwep1K8Erxl"
   },
   "source": [
    "**Project:** Data Minining Project for  X company"
   ]
  },
  {
   "cell_type": "code",
   "execution_count": 1,
   "metadata": {},
   "outputs": [],
   "source": [
    "import pandas as pd\n",
    "import numpy as np\n",
    "import matplotlib.pyplot as plt\n",
    "from sklearn.model_selection import train_test_split\n",
    "from sklearn.linear_model import SGDClassifier"
   ]
  },
  {
   "cell_type": "code",
   "execution_count": 14,
   "metadata": {
    "id": "85WxmGNGDcBY"
   },
   "outputs": [],
   "source": [
    "df = pd.read_csv(\"./clean_processed_tweet_data.csv\")"
   ]
  },
  {
   "cell_type": "code",
   "execution_count": 15,
   "metadata": {},
   "outputs": [
    {
     "data": {
      "text/html": [
       "<div>\n",
       "<style scoped>\n",
       "    .dataframe tbody tr th:only-of-type {\n",
       "        vertical-align: middle;\n",
       "    }\n",
       "\n",
       "    .dataframe tbody tr th {\n",
       "        vertical-align: top;\n",
       "    }\n",
       "\n",
       "    .dataframe thead th {\n",
       "        text-align: right;\n",
       "    }\n",
       "</style>\n",
       "<table border=\"1\" class=\"dataframe\">\n",
       "  <thead>\n",
       "    <tr style=\"text-align: right;\">\n",
       "      <th></th>\n",
       "      <th>Unnamed: 0</th>\n",
       "      <th>created_at</th>\n",
       "      <th>source</th>\n",
       "      <th>original_text</th>\n",
       "      <th>polarity</th>\n",
       "      <th>subjectivity</th>\n",
       "      <th>lang</th>\n",
       "      <th>favorite_count</th>\n",
       "      <th>retweet_count</th>\n",
       "      <th>original_author</th>\n",
       "      <th>followers_count</th>\n",
       "      <th>friends_count</th>\n",
       "      <th>possibly_sensitive</th>\n",
       "      <th>hashtags</th>\n",
       "      <th>user_mentions</th>\n",
       "      <th>place</th>\n",
       "    </tr>\n",
       "  </thead>\n",
       "  <tbody>\n",
       "    <tr>\n",
       "      <th>0</th>\n",
       "      <td>0</td>\n",
       "      <td>Fri Jun 18 17:55:49 +0000 2021</td>\n",
       "      <td>&lt;a href=\"http://twitter.com/download/iphone\" r...</td>\n",
       "      <td>🚨Africa is \"in the midst of a full-blown third...</td>\n",
       "      <td>0.166667</td>\n",
       "      <td>0.188889</td>\n",
       "      <td>en</td>\n",
       "      <td>548.0</td>\n",
       "      <td>612.0</td>\n",
       "      <td>ketuesriche</td>\n",
       "      <td>551</td>\n",
       "      <td>351</td>\n",
       "      <td>NaN</td>\n",
       "      <td>[]</td>\n",
       "      <td>NaN</td>\n",
       "      <td>Mass</td>\n",
       "    </tr>\n",
       "    <tr>\n",
       "      <th>1</th>\n",
       "      <td>1</td>\n",
       "      <td>Fri Jun 18 17:55:59 +0000 2021</td>\n",
       "      <td>&lt;a href=\"https://mobile.twitter.com\" rel=\"nofo...</td>\n",
       "      <td>Dr Moeti is head of WHO in Africa, and one of ...</td>\n",
       "      <td>0.133333</td>\n",
       "      <td>0.455556</td>\n",
       "      <td>en</td>\n",
       "      <td>195.0</td>\n",
       "      <td>92.0</td>\n",
       "      <td>Grid1949</td>\n",
       "      <td>66</td>\n",
       "      <td>92</td>\n",
       "      <td>NaN</td>\n",
       "      <td>[]</td>\n",
       "      <td>NaN</td>\n",
       "      <td>Edinburgh, Scotland</td>\n",
       "    </tr>\n",
       "    <tr>\n",
       "      <th>2</th>\n",
       "      <td>2</td>\n",
       "      <td>Fri Jun 18 17:56:07 +0000 2021</td>\n",
       "      <td>&lt;a href=\"http://twitter.com/download/iphone\" r...</td>\n",
       "      <td>Thank you @research2note for creating this ama...</td>\n",
       "      <td>0.316667</td>\n",
       "      <td>0.483333</td>\n",
       "      <td>en</td>\n",
       "      <td>2.0</td>\n",
       "      <td>1.0</td>\n",
       "      <td>LeeTomlinson8</td>\n",
       "      <td>1195</td>\n",
       "      <td>1176</td>\n",
       "      <td>NaN</td>\n",
       "      <td>[{'text': 'red4research', 'indices': [87, 100]}]</td>\n",
       "      <td>NaN</td>\n",
       "      <td>NaN</td>\n",
       "    </tr>\n",
       "    <tr>\n",
       "      <th>3</th>\n",
       "      <td>3</td>\n",
       "      <td>Fri Jun 18 17:56:10 +0000 2021</td>\n",
       "      <td>&lt;a href=\"https://mobile.twitter.com\" rel=\"nofo...</td>\n",
       "      <td>Former Pfizer VP and Virologist, Dr. Michael Y...</td>\n",
       "      <td>0.086111</td>\n",
       "      <td>0.197222</td>\n",
       "      <td>en</td>\n",
       "      <td>1580.0</td>\n",
       "      <td>899.0</td>\n",
       "      <td>RIPNY08</td>\n",
       "      <td>2666</td>\n",
       "      <td>2704</td>\n",
       "      <td>NaN</td>\n",
       "      <td>[{'text': 'Covid19', 'indices': [145, 153]}]</td>\n",
       "      <td>NaN</td>\n",
       "      <td>NaN</td>\n",
       "    </tr>\n",
       "    <tr>\n",
       "      <th>4</th>\n",
       "      <td>4</td>\n",
       "      <td>Fri Jun 18 17:56:20 +0000 2021</td>\n",
       "      <td>&lt;a href=\"http://twitter.com/download/android\" ...</td>\n",
       "      <td>I think it’s important that we don’t sell COVA...</td>\n",
       "      <td>0.280000</td>\n",
       "      <td>0.620000</td>\n",
       "      <td>en</td>\n",
       "      <td>72.0</td>\n",
       "      <td>20.0</td>\n",
       "      <td>pash22</td>\n",
       "      <td>28250</td>\n",
       "      <td>30819</td>\n",
       "      <td>NaN</td>\n",
       "      <td>[]</td>\n",
       "      <td>NaN</td>\n",
       "      <td>United Kingdom</td>\n",
       "    </tr>\n",
       "  </tbody>\n",
       "</table>\n",
       "</div>"
      ],
      "text/plain": [
       "   Unnamed: 0                      created_at  \\\n",
       "0           0  Fri Jun 18 17:55:49 +0000 2021   \n",
       "1           1  Fri Jun 18 17:55:59 +0000 2021   \n",
       "2           2  Fri Jun 18 17:56:07 +0000 2021   \n",
       "3           3  Fri Jun 18 17:56:10 +0000 2021   \n",
       "4           4  Fri Jun 18 17:56:20 +0000 2021   \n",
       "\n",
       "                                              source  \\\n",
       "0  <a href=\"http://twitter.com/download/iphone\" r...   \n",
       "1  <a href=\"https://mobile.twitter.com\" rel=\"nofo...   \n",
       "2  <a href=\"http://twitter.com/download/iphone\" r...   \n",
       "3  <a href=\"https://mobile.twitter.com\" rel=\"nofo...   \n",
       "4  <a href=\"http://twitter.com/download/android\" ...   \n",
       "\n",
       "                                       original_text  polarity  subjectivity  \\\n",
       "0  🚨Africa is \"in the midst of a full-blown third...  0.166667      0.188889   \n",
       "1  Dr Moeti is head of WHO in Africa, and one of ...  0.133333      0.455556   \n",
       "2  Thank you @research2note for creating this ama...  0.316667      0.483333   \n",
       "3  Former Pfizer VP and Virologist, Dr. Michael Y...  0.086111      0.197222   \n",
       "4  I think it’s important that we don’t sell COVA...  0.280000      0.620000   \n",
       "\n",
       "  lang  favorite_count  retweet_count original_author  followers_count  \\\n",
       "0   en           548.0          612.0     ketuesriche              551   \n",
       "1   en           195.0           92.0        Grid1949               66   \n",
       "2   en             2.0            1.0   LeeTomlinson8             1195   \n",
       "3   en          1580.0          899.0         RIPNY08             2666   \n",
       "4   en            72.0           20.0          pash22            28250   \n",
       "\n",
       "   friends_count possibly_sensitive  \\\n",
       "0            351                NaN   \n",
       "1             92                NaN   \n",
       "2           1176                NaN   \n",
       "3           2704                NaN   \n",
       "4          30819                NaN   \n",
       "\n",
       "                                           hashtags user_mentions  \\\n",
       "0                                                []           NaN   \n",
       "1                                                []           NaN   \n",
       "2  [{'text': 'red4research', 'indices': [87, 100]}]           NaN   \n",
       "3      [{'text': 'Covid19', 'indices': [145, 153]}]           NaN   \n",
       "4                                                []           NaN   \n",
       "\n",
       "                 place  \n",
       "0                 Mass  \n",
       "1  Edinburgh, Scotland  \n",
       "2                  NaN  \n",
       "3                  NaN  \n",
       "4       United Kingdom  "
      ]
     },
     "execution_count": 15,
     "metadata": {},
     "output_type": "execute_result"
    }
   ],
   "source": [
    "df.head()"
   ]
  },
  {
   "cell_type": "code",
   "execution_count": 10,
   "metadata": {
    "id": "2I1zwg0QKZhx"
   },
   "outputs": [],
   "source": [
    "Clean_Tweet = df[['original_text','polarity']]"
   ]
  },
  {
   "cell_type": "code",
   "execution_count": 11,
   "metadata": {
    "id": "J76pSat5T4LP"
   },
   "outputs": [],
   "source": [
    "def text_category (p):\n",
    "    if p > 0:\n",
    "        return 'positive'\n",
    "    if p < 0:\n",
    "        return 'negative'\n",
    "    else:\n",
    "        return 'neutral'"
   ]
  },
  {
   "cell_type": "code",
   "execution_count": 12,
   "metadata": {},
   "outputs": [],
   "source": [
    "score = pd.Series([text_category(row_value) for row_value in Clean_Tweet['polarity']])"
   ]
  },
  {
   "cell_type": "code",
   "execution_count": 13,
   "metadata": {},
   "outputs": [],
   "source": [
    "Clean_Tweet = pd.concat([Clean_Tweet, score.rename(\"score\")], axis=1)"
   ]
  },
  {
   "cell_type": "code",
   "execution_count": 14,
   "metadata": {},
   "outputs": [
    {
     "data": {
      "text/html": [
       "<div>\n",
       "<style scoped>\n",
       "    .dataframe tbody tr th:only-of-type {\n",
       "        vertical-align: middle;\n",
       "    }\n",
       "\n",
       "    .dataframe tbody tr th {\n",
       "        vertical-align: top;\n",
       "    }\n",
       "\n",
       "    .dataframe thead th {\n",
       "        text-align: right;\n",
       "    }\n",
       "</style>\n",
       "<table border=\"1\" class=\"dataframe\">\n",
       "  <thead>\n",
       "    <tr style=\"text-align: right;\">\n",
       "      <th></th>\n",
       "      <th>original_text</th>\n",
       "      <th>polarity</th>\n",
       "      <th>score</th>\n",
       "    </tr>\n",
       "  </thead>\n",
       "  <tbody>\n",
       "    <tr>\n",
       "      <th>0</th>\n",
       "      <td>🚨Africa is \"in the midst of a full-blown third...</td>\n",
       "      <td>0.166667</td>\n",
       "      <td>positive</td>\n",
       "    </tr>\n",
       "    <tr>\n",
       "      <th>1</th>\n",
       "      <td>Dr Moeti is head of WHO in Africa, and one of ...</td>\n",
       "      <td>0.133333</td>\n",
       "      <td>positive</td>\n",
       "    </tr>\n",
       "    <tr>\n",
       "      <th>2</th>\n",
       "      <td>Thank you @research2note for creating this ama...</td>\n",
       "      <td>0.316667</td>\n",
       "      <td>positive</td>\n",
       "    </tr>\n",
       "    <tr>\n",
       "      <th>3</th>\n",
       "      <td>Former Pfizer VP and Virologist, Dr. Michael Y...</td>\n",
       "      <td>0.086111</td>\n",
       "      <td>positive</td>\n",
       "    </tr>\n",
       "    <tr>\n",
       "      <th>4</th>\n",
       "      <td>I think it’s important that we don’t sell COVA...</td>\n",
       "      <td>0.280000</td>\n",
       "      <td>positive</td>\n",
       "    </tr>\n",
       "  </tbody>\n",
       "</table>\n",
       "</div>"
      ],
      "text/plain": [
       "                                       original_text  polarity     score\n",
       "0  🚨Africa is \"in the midst of a full-blown third...  0.166667  positive\n",
       "1  Dr Moeti is head of WHO in Africa, and one of ...  0.133333  positive\n",
       "2  Thank you @research2note for creating this ama...  0.316667  positive\n",
       "3  Former Pfizer VP and Virologist, Dr. Michael Y...  0.086111  positive\n",
       "4  I think it’s important that we don’t sell COVA...  0.280000  positive"
      ]
     },
     "execution_count": 14,
     "metadata": {},
     "output_type": "execute_result"
    }
   ],
   "source": [
    "Clean_Tweet.head()"
   ]
  },
  {
   "cell_type": "code",
   "execution_count": 16,
   "metadata": {},
   "outputs": [
    {
     "data": {
      "text/plain": [
       "6225"
      ]
     },
     "execution_count": 16,
     "metadata": {},
     "output_type": "execute_result"
    }
   ],
   "source": [
    "len(Clean_Tweet['polarity'])"
   ]
  },
  {
   "cell_type": "code",
   "execution_count": 19,
   "metadata": {},
   "outputs": [],
   "source": [
    "scoremap = pd.Series([1 if row_value == 'positive' else 0 for row_value in Clean_Tweet['score']])"
   ]
  },
  {
   "cell_type": "code",
   "execution_count": 20,
   "metadata": {},
   "outputs": [
    {
     "data": {
      "text/plain": [
       "6225"
      ]
     },
     "execution_count": 20,
     "metadata": {},
     "output_type": "execute_result"
    }
   ],
   "source": [
    "len(scoremap)"
   ]
  },
  {
   "cell_type": "code",
   "execution_count": 25,
   "metadata": {},
   "outputs": [],
   "source": [
    "Clean_Tweet['scoremap'] = scoremap"
   ]
  },
  {
   "cell_type": "code",
   "execution_count": 26,
   "metadata": {},
   "outputs": [],
   "source": [
    "X = Clean_Tweet['original_text']\n",
    "y = Clean_Tweet['scoremap']"
   ]
  },
  {
   "cell_type": "code",
   "execution_count": 27,
   "metadata": {},
   "outputs": [],
   "source": [
    "X_train, X_test, y_train, y_test = train_test_split(X, y, test_size=0.25, random_state=42)"
   ]
  },
  {
   "cell_type": "code",
   "execution_count": 28,
   "metadata": {},
   "outputs": [
    {
     "name": "stdout",
     "output_type": "stream",
     "text": [
      "4668\n",
      "1557\n",
      "4668\n",
      "1557\n"
     ]
    }
   ],
   "source": [
    "print(X_train.size)\n",
    "print(X_test.size)\n",
    "print(y_train.size)\n",
    "print(y_test.size)"
   ]
  },
  {
   "cell_type": "code",
   "execution_count": 30,
   "metadata": {},
   "outputs": [
    {
     "data": {
      "text/html": [
       "<div>\n",
       "<style scoped>\n",
       "    .dataframe tbody tr th:only-of-type {\n",
       "        vertical-align: middle;\n",
       "    }\n",
       "\n",
       "    .dataframe tbody tr th {\n",
       "        vertical-align: top;\n",
       "    }\n",
       "\n",
       "    .dataframe thead th {\n",
       "        text-align: right;\n",
       "    }\n",
       "</style>\n",
       "<table border=\"1\" class=\"dataframe\">\n",
       "  <thead>\n",
       "    <tr style=\"text-align: right;\">\n",
       "      <th></th>\n",
       "      <th>original_text</th>\n",
       "      <th>polarity</th>\n",
       "      <th>score</th>\n",
       "      <th>scoremap</th>\n",
       "    </tr>\n",
       "  </thead>\n",
       "  <tbody>\n",
       "    <tr>\n",
       "      <th>0</th>\n",
       "      <td>🚨Africa is \"in the midst of a full-blown third...</td>\n",
       "      <td>0.166667</td>\n",
       "      <td>positive</td>\n",
       "      <td>1</td>\n",
       "    </tr>\n",
       "    <tr>\n",
       "      <th>1</th>\n",
       "      <td>Dr Moeti is head of WHO in Africa, and one of ...</td>\n",
       "      <td>0.133333</td>\n",
       "      <td>positive</td>\n",
       "      <td>1</td>\n",
       "    </tr>\n",
       "    <tr>\n",
       "      <th>2</th>\n",
       "      <td>Thank you @research2note for creating this ama...</td>\n",
       "      <td>0.316667</td>\n",
       "      <td>positive</td>\n",
       "      <td>1</td>\n",
       "    </tr>\n",
       "    <tr>\n",
       "      <th>3</th>\n",
       "      <td>Former Pfizer VP and Virologist, Dr. Michael Y...</td>\n",
       "      <td>0.086111</td>\n",
       "      <td>positive</td>\n",
       "      <td>1</td>\n",
       "    </tr>\n",
       "    <tr>\n",
       "      <th>4</th>\n",
       "      <td>I think it’s important that we don’t sell COVA...</td>\n",
       "      <td>0.280000</td>\n",
       "      <td>positive</td>\n",
       "      <td>1</td>\n",
       "    </tr>\n",
       "  </tbody>\n",
       "</table>\n",
       "</div>"
      ],
      "text/plain": [
       "                                       original_text  polarity     score  \\\n",
       "0  🚨Africa is \"in the midst of a full-blown third...  0.166667  positive   \n",
       "1  Dr Moeti is head of WHO in Africa, and one of ...  0.133333  positive   \n",
       "2  Thank you @research2note for creating this ama...  0.316667  positive   \n",
       "3  Former Pfizer VP and Virologist, Dr. Michael Y...  0.086111  positive   \n",
       "4  I think it’s important that we don’t sell COVA...  0.280000  positive   \n",
       "\n",
       "   scoremap  \n",
       "0         1  \n",
       "1         1  \n",
       "2         1  \n",
       "3         1  \n",
       "4         1  "
      ]
     },
     "execution_count": 30,
     "metadata": {},
     "output_type": "execute_result"
    }
   ],
   "source": [
    "Clean_Tweet.head()"
   ]
  },
  {
   "cell_type": "code",
   "execution_count": 33,
   "metadata": {},
   "outputs": [],
   "source": [
    "from sklearn.linear_model import SGDClassifier\n",
    "from sklearn.preprocessing import StandardScaler\n",
    "from sklearn.pipeline import make_pipeline\n",
    "from sklearn.feature_extraction.text import CountVectorizer"
   ]
  },
  {
   "cell_type": "code",
   "execution_count": 37,
   "metadata": {},
   "outputs": [],
   "source": [
    "# scaling the input\n",
    "clf = make_pipeline(StandardScaler(), SGDClassifier(max_iter=9000, tol=1e-2))"
   ]
  },
  {
   "cell_type": "code",
   "execution_count": 38,
   "metadata": {},
   "outputs": [],
   "source": [
    "count_vect = CountVectorizer(3,3)\n",
    "X_train = X_train.replace(np.nan, '', regex=True)\n",
    "X_train_counts = count_vect.fit_transform(X_train)\n",
    "X_train_counts = X_train_counts.toarray()"
   ]
  },
  {
   "cell_type": "code",
   "execution_count": 39,
   "metadata": {},
   "outputs": [
    {
     "data": {
      "text/plain": [
       "Pipeline(memory=None,\n",
       "         steps=[('standardscaler',\n",
       "                 StandardScaler(copy=True, with_mean=True, with_std=True)),\n",
       "                ('sgdclassifier',\n",
       "                 SGDClassifier(alpha=0.0001, average=False, class_weight=None,\n",
       "                               early_stopping=False, epsilon=0.1, eta0=0.0,\n",
       "                               fit_intercept=True, l1_ratio=0.15,\n",
       "                               learning_rate='optimal', loss='hinge',\n",
       "                               max_iter=9000, n_iter_no_change=5, n_jobs=None,\n",
       "                               penalty='l2', power_t=0.5, random_state=None,\n",
       "                               shuffle=True, tol=0.01, validation_fraction=0.1,\n",
       "                               verbose=0, warm_start=False))],\n",
       "         verbose=False)"
      ]
     },
     "execution_count": 39,
     "metadata": {},
     "output_type": "execute_result"
    }
   ],
   "source": [
    "clf.fit(X_train_counts, y_train)"
   ]
  },
  {
   "cell_type": "code",
   "execution_count": 40,
   "metadata": {},
   "outputs": [],
   "source": [
    "X_test = X_test.replace(np.nan, '', regex=True)\n",
    "# use transform not fit_transform\n",
    "X_test_counts = count_vect.transform(X_test)\n",
    "X_test_counts = X_test_counts.toarray()\n",
    "# prediction = clf.prevaluedict(X_test_counts)\n",
    "prediction = clf.predict(X_test_counts)"
   ]
  },
  {
   "cell_type": "code",
   "execution_count": 41,
   "metadata": {},
   "outputs": [],
   "source": [
    "# making prediction\n",
    "prediction = clf.predict(X_test_counts)"
   ]
  },
  {
   "cell_type": "code",
   "execution_count": 42,
   "metadata": {},
   "outputs": [
    {
     "data": {
      "text/plain": [
       "0.9736673089274245"
      ]
     },
     "execution_count": 42,
     "metadata": {},
     "output_type": "execute_result"
    }
   ],
   "source": [
    "np.mean(prediction == y_test)"
   ]
  },
  {
   "cell_type": "code",
   "execution_count": null,
   "metadata": {},
   "outputs": [],
   "source": []
  }
 ],
 "metadata": {
  "colab": {
   "collapsed_sections": [],
   "name": "Challenge_ Day2.ipynb",
   "provenance": []
  },
  "kernelspec": {
   "display_name": "Python 3",
   "language": "python",
   "name": "python3"
  },
  "language_info": {
   "codemirror_mode": {
    "name": "ipython",
    "version": 3
   },
   "file_extension": ".py",
   "mimetype": "text/x-python",
   "name": "python",
   "nbconvert_exporter": "python",
   "pygments_lexer": "ipython3",
   "version": "3.7.6"
  }
 },
 "nbformat": 4,
 "nbformat_minor": 1
}
