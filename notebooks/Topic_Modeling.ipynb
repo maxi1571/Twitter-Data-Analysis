{
 "cells": [
  {
   "cell_type": "code",
   "execution_count": 1,
   "metadata": {},
   "outputs": [
    {
     "name": "stdout",
     "output_type": "stream",
     "text": [
      "Requirement already satisfied: pyLDAvis in /usr/local/lib/python3.8/dist-packages (3.3.1)\n",
      "Requirement already satisfied: future in /usr/lib/python3/dist-packages (from pyLDAvis) (0.18.2)\n",
      "Requirement already satisfied: sklearn in /usr/local/lib/python3.8/dist-packages (from pyLDAvis) (0.0)\n",
      "Requirement already satisfied: scipy in /usr/local/lib/python3.8/dist-packages (from pyLDAvis) (1.7.0)\n",
      "Requirement already satisfied: funcy in /usr/local/lib/python3.8/dist-packages (from pyLDAvis) (1.16)\n",
      "Requirement already satisfied: scikit-learn in /usr/local/lib/python3.8/dist-packages (from pyLDAvis) (0.24.2)\n",
      "Requirement already satisfied: gensim in /usr/local/lib/python3.8/dist-packages (from pyLDAvis) (4.0.1)\n",
      "Requirement already satisfied: jinja2 in /usr/local/lib/python3.8/dist-packages (from pyLDAvis) (3.0.1)\n",
      "Requirement already satisfied: joblib in /usr/local/lib/python3.8/dist-packages (from pyLDAvis) (1.0.1)\n",
      "Requirement already satisfied: setuptools in /usr/lib/python3/dist-packages (from pyLDAvis) (45.2.0)\n",
      "Requirement already satisfied: numpy>=1.20.0 in /usr/local/lib/python3.8/dist-packages (from pyLDAvis) (1.20.3)\n",
      "Requirement already satisfied: numexpr in /usr/local/lib/python3.8/dist-packages (from pyLDAvis) (2.7.3)\n",
      "Requirement already satisfied: pandas>=1.2.0 in /usr/local/lib/python3.8/dist-packages (from pyLDAvis) (1.2.4)\n",
      "Requirement already satisfied: threadpoolctl>=2.0.0 in /usr/local/lib/python3.8/dist-packages (from scikit-learn->pyLDAvis) (2.1.0)\n",
      "Requirement already satisfied: smart-open>=1.8.1 in /usr/local/lib/python3.8/dist-packages (from gensim->pyLDAvis) (5.1.0)\n",
      "Requirement already satisfied: MarkupSafe>=2.0 in /usr/local/lib/python3.8/dist-packages (from jinja2->pyLDAvis) (2.0.1)\n",
      "Requirement already satisfied: python-dateutil>=2.7.3 in /usr/lib/python3/dist-packages (from pandas>=1.2.0->pyLDAvis) (2.7.3)\n",
      "Requirement already satisfied: pytz>=2017.3 in /usr/lib/python3/dist-packages (from pandas>=1.2.0->pyLDAvis) (2019.3)\n",
      "Collecting spacy\n",
      "  Using cached spacy-3.0.6-cp38-cp38-manylinux2014_x86_64.whl (13.0 MB)\n",
      "Collecting pydantic<1.8.0,>=1.7.1\n",
      "  Using cached pydantic-1.7.4-cp38-cp38-manylinux2014_x86_64.whl (12.3 MB)\n",
      "Collecting wasabi<1.1.0,>=0.8.1\n",
      "  Downloading wasabi-0.8.2-py3-none-any.whl (23 kB)\n",
      "Collecting cymem<2.1.0,>=2.0.2\n",
      "  Using cached cymem-2.0.5-cp38-cp38-manylinux2014_x86_64.whl (35 kB)\n",
      "Requirement already satisfied: requests<3.0.0,>=2.13.0 in /usr/lib/python3/dist-packages (from spacy) (2.22.0)\n",
      "Collecting preshed<3.1.0,>=3.0.2\n",
      "  Downloading preshed-3.0.5-cp38-cp38-manylinux2014_x86_64.whl (130 kB)\n",
      "\u001b[K     |████████████████████████████████| 130 kB 252 kB/s eta 0:00:01\n",
      "\u001b[?25hCollecting thinc<8.1.0,>=8.0.3\n",
      "  Downloading thinc-8.0.6-cp38-cp38-manylinux_2_17_x86_64.manylinux2014_x86_64.whl (628 kB)\n",
      "\u001b[K     |████████████████████████████████| 628 kB 73 kB/s eta 0:00:013\n",
      "\u001b[?25hRequirement already satisfied: jinja2 in /usr/local/lib/python3.8/dist-packages (from spacy) (3.0.1)\n",
      "Collecting typer<0.4.0,>=0.3.0\n",
      "  Using cached typer-0.3.2-py3-none-any.whl (21 kB)\n",
      "Collecting tqdm<5.0.0,>=4.38.0\n",
      "  Using cached tqdm-4.61.1-py2.py3-none-any.whl (75 kB)\n",
      "Requirement already satisfied: numpy>=1.15.0 in /usr/local/lib/python3.8/dist-packages (from spacy) (1.20.3)\n",
      "Collecting murmurhash<1.1.0,>=0.28.0\n",
      "  Using cached murmurhash-1.0.5-cp38-cp38-manylinux2014_x86_64.whl (20 kB)\n",
      "Collecting catalogue<2.1.0,>=2.0.3\n",
      "  Using cached catalogue-2.0.4-py3-none-any.whl (16 kB)\n",
      "Collecting pathy>=0.3.5\n",
      "  Downloading pathy-0.5.2-py3-none-any.whl (42 kB)\n",
      "\u001b[K     |████████████████████████████████| 42 kB 44 kB/s eta 0:00:01\n",
      "\u001b[?25hCollecting spacy-legacy<3.1.0,>=3.0.4\n",
      "  Using cached spacy_legacy-3.0.6-py2.py3-none-any.whl (12 kB)\n",
      "Requirement already satisfied: setuptools in /usr/lib/python3/dist-packages (from spacy) (45.2.0)\n",
      "Collecting srsly<3.0.0,>=2.4.1\n",
      "  Using cached srsly-2.4.1-cp38-cp38-manylinux2014_x86_64.whl (458 kB)\n",
      "Requirement already satisfied: packaging>=20.0 in /usr/local/lib/python3.8/dist-packages (from spacy) (20.9)\n",
      "Collecting blis<0.8.0,>=0.4.0\n",
      "  Using cached blis-0.7.4-cp38-cp38-manylinux2014_x86_64.whl (9.8 MB)\n",
      "Requirement already satisfied: MarkupSafe>=2.0 in /usr/local/lib/python3.8/dist-packages (from jinja2->spacy) (2.0.1)\n",
      "Collecting click<7.2.0,>=7.1.1\n",
      "  Downloading click-7.1.2-py2.py3-none-any.whl (82 kB)\n",
      "\u001b[K     |████████████████████████████████| 82 kB 35 kB/s  eta 0:00:01\n",
      "\u001b[?25hCollecting smart-open<4.0.0,>=2.2.0\n",
      "  Downloading smart_open-3.0.0.tar.gz (113 kB)\n",
      "\u001b[K     |████████████████████████████████| 113 kB 226 kB/s eta 0:00:01\n",
      "\u001b[?25hRequirement already satisfied: pyparsing>=2.0.2 in /usr/local/lib/python3.8/dist-packages (from packaging>=20.0->spacy) (2.4.7)\n",
      "Building wheels for collected packages: smart-open\n",
      "  Building wheel for smart-open (setup.py) ... \u001b[?25ldone\n",
      "\u001b[?25h  Created wheel for smart-open: filename=smart_open-3.0.0-py3-none-any.whl size=107092 sha256=1089e7d495cf37761d946002a4f0e7b6b6cd40381dbe591200ddcb26133aab8a\n",
      "  Stored in directory: /root/.cache/pip/wheels/11/73/9a/f91ac1f1816436b16423617c5be5db048697ff152a9c4346f2\n",
      "Successfully built smart-open\n",
      "Installing collected packages: pydantic, wasabi, cymem, murmurhash, preshed, catalogue, srsly, blis, thinc, click, typer, tqdm, smart-open, pathy, spacy-legacy, spacy\n",
      "  Attempting uninstall: click\n",
      "    Found existing installation: Click 7.0\n",
      "    Not uninstalling click at /usr/lib/python3/dist-packages, outside environment /usr\n",
      "    Can't uninstall 'Click'. No files were found to uninstall.\n",
      "  Attempting uninstall: smart-open\n",
      "    Found existing installation: smart-open 5.1.0\n",
      "    Uninstalling smart-open-5.1.0:\n",
      "      Successfully uninstalled smart-open-5.1.0\n",
      "Successfully installed blis-0.7.4 catalogue-2.0.4 click-7.1.2 cymem-2.0.5 murmurhash-1.0.5 pathy-0.5.2 preshed-3.0.5 pydantic-1.7.4 smart-open-3.0.0 spacy-3.0.6 spacy-legacy-3.0.6 srsly-2.4.1 thinc-8.0.6 tqdm-4.61.1 typer-0.3.2 wasabi-0.8.2\n",
      "/root/anaconda3/bin/python3: No module named spacy\n"
     ]
    }
   ],
   "source": [
    "!pip3 install pyLDAvis \n",
    "!pip3 install spacy\n",
    "!python3 -m spacy download en_core_web_md "
   ]
  },
  {
   "cell_type": "code",
   "execution_count": 4,
   "metadata": {},
   "outputs": [
    {
     "name": "stdout",
     "output_type": "stream",
     "text": [
      "/root/anaconda3/bin/python3: No module named spacy\r\n"
     ]
    }
   ],
   "source": [
    "!python3 -m spacy download en_core_web_md "
   ]
  },
  {
   "cell_type": "code",
   "execution_count": 1,
   "metadata": {
    "scrolled": true
   },
   "outputs": [
    {
     "name": "stderr",
     "output_type": "stream",
     "text": [
      "[nltk_data] Downloading package stopwords to /root/nltk_data...\n",
      "[nltk_data]   Package stopwords is already up-to-date!\n"
     ]
    },
    {
     "data": {
      "text/plain": [
       "True"
      ]
     },
     "execution_count": 1,
     "metadata": {},
     "output_type": "execute_result"
    }
   ],
   "source": [
    "import nltk\n",
    "nltk.download('stopwords') "
   ]
  },
  {
   "cell_type": "code",
   "execution_count": 2,
   "metadata": {},
   "outputs": [
    {
     "name": "stderr",
     "output_type": "stream",
     "text": [
      "/root/anaconda3/lib/python3.7/site-packages/gensim/similarities/__init__.py:15: UserWarning: The gensim.similarities.levenshtein submodule is disabled, because the optional Levenshtein package <https://pypi.org/project/python-Levenshtein/> is unavailable. Install Levenhstein (e.g. `pip install python-Levenshtein`) to suppress this warning.\n",
      "  warnings.warn(msg)\n",
      "/root/anaconda3/lib/python3.7/site-packages/sklearn/decomposition/_lda.py:29: DeprecationWarning: `np.float` is a deprecated alias for the builtin `float`. To silence this warning, use `float` by itself. Doing this will not modify any behavior and is safe. If you specifically wanted the numpy scalar type, use `np.float64` here.\n",
      "Deprecated in NumPy 1.20; for more details and guidance: https://numpy.org/devdocs/release/1.20.0-notes.html#deprecations\n",
      "  EPS = np.finfo(np.float).eps\n"
     ]
    }
   ],
   "source": [
    "import re\n",
    "import string\n",
    "import spacy\n",
    "import gensim\n",
    "from gensim import corpora\n",
    "import pandas as pd\n",
    "import numpy as np\n",
    "import pyLDAvis\n",
    "import pyLDAvis.gensim_models as gensimvis\n",
    "import matplotlib.pyplot as plt\n",
    "import seaborn as sns"
   ]
  },
  {
   "cell_type": "code",
   "execution_count": 3,
   "metadata": {},
   "outputs": [],
   "source": [
    "df = pd.read_csv('./clean_processed_tweet_data.csv')"
   ]
  },
  {
   "cell_type": "code",
   "execution_count": 4,
   "metadata": {},
   "outputs": [
    {
     "data": {
      "text/html": [
       "<div>\n",
       "<style scoped>\n",
       "    .dataframe tbody tr th:only-of-type {\n",
       "        vertical-align: middle;\n",
       "    }\n",
       "\n",
       "    .dataframe tbody tr th {\n",
       "        vertical-align: top;\n",
       "    }\n",
       "\n",
       "    .dataframe thead th {\n",
       "        text-align: right;\n",
       "    }\n",
       "</style>\n",
       "<table border=\"1\" class=\"dataframe\">\n",
       "  <thead>\n",
       "    <tr style=\"text-align: right;\">\n",
       "      <th></th>\n",
       "      <th>Unnamed: 0</th>\n",
       "      <th>created_at</th>\n",
       "      <th>source</th>\n",
       "      <th>original_text</th>\n",
       "      <th>polarity</th>\n",
       "      <th>subjectivity</th>\n",
       "      <th>lang</th>\n",
       "      <th>favorite_count</th>\n",
       "      <th>retweet_count</th>\n",
       "      <th>original_author</th>\n",
       "      <th>followers_count</th>\n",
       "      <th>friends_count</th>\n",
       "      <th>possibly_sensitive</th>\n",
       "      <th>hashtags</th>\n",
       "      <th>user_mentions</th>\n",
       "      <th>place</th>\n",
       "    </tr>\n",
       "  </thead>\n",
       "  <tbody>\n",
       "    <tr>\n",
       "      <th>0</th>\n",
       "      <td>0</td>\n",
       "      <td>Fri Jun 18 17:55:49 +0000 2021</td>\n",
       "      <td>&lt;a href=\"http://twitter.com/download/iphone\" r...</td>\n",
       "      <td>🚨Africa is \"in the midst of a full-blown third...</td>\n",
       "      <td>0.166667</td>\n",
       "      <td>0.188889</td>\n",
       "      <td>en</td>\n",
       "      <td>548.0</td>\n",
       "      <td>612.0</td>\n",
       "      <td>ketuesriche</td>\n",
       "      <td>551</td>\n",
       "      <td>351</td>\n",
       "      <td>NaN</td>\n",
       "      <td>[]</td>\n",
       "      <td>NaN</td>\n",
       "      <td>Mass</td>\n",
       "    </tr>\n",
       "    <tr>\n",
       "      <th>1</th>\n",
       "      <td>1</td>\n",
       "      <td>Fri Jun 18 17:55:59 +0000 2021</td>\n",
       "      <td>&lt;a href=\"https://mobile.twitter.com\" rel=\"nofo...</td>\n",
       "      <td>Dr Moeti is head of WHO in Africa, and one of ...</td>\n",
       "      <td>0.133333</td>\n",
       "      <td>0.455556</td>\n",
       "      <td>en</td>\n",
       "      <td>195.0</td>\n",
       "      <td>92.0</td>\n",
       "      <td>Grid1949</td>\n",
       "      <td>66</td>\n",
       "      <td>92</td>\n",
       "      <td>NaN</td>\n",
       "      <td>[]</td>\n",
       "      <td>NaN</td>\n",
       "      <td>Edinburgh, Scotland</td>\n",
       "    </tr>\n",
       "    <tr>\n",
       "      <th>2</th>\n",
       "      <td>2</td>\n",
       "      <td>Fri Jun 18 17:56:07 +0000 2021</td>\n",
       "      <td>&lt;a href=\"http://twitter.com/download/iphone\" r...</td>\n",
       "      <td>Thank you @research2note for creating this ama...</td>\n",
       "      <td>0.316667</td>\n",
       "      <td>0.483333</td>\n",
       "      <td>en</td>\n",
       "      <td>2.0</td>\n",
       "      <td>1.0</td>\n",
       "      <td>LeeTomlinson8</td>\n",
       "      <td>1195</td>\n",
       "      <td>1176</td>\n",
       "      <td>NaN</td>\n",
       "      <td>[{'text': 'red4research', 'indices': [87, 100]}]</td>\n",
       "      <td>NaN</td>\n",
       "      <td>NaN</td>\n",
       "    </tr>\n",
       "    <tr>\n",
       "      <th>3</th>\n",
       "      <td>3</td>\n",
       "      <td>Fri Jun 18 17:56:10 +0000 2021</td>\n",
       "      <td>&lt;a href=\"https://mobile.twitter.com\" rel=\"nofo...</td>\n",
       "      <td>Former Pfizer VP and Virologist, Dr. Michael Y...</td>\n",
       "      <td>0.086111</td>\n",
       "      <td>0.197222</td>\n",
       "      <td>en</td>\n",
       "      <td>1580.0</td>\n",
       "      <td>899.0</td>\n",
       "      <td>RIPNY08</td>\n",
       "      <td>2666</td>\n",
       "      <td>2704</td>\n",
       "      <td>NaN</td>\n",
       "      <td>[{'text': 'Covid19', 'indices': [145, 153]}]</td>\n",
       "      <td>NaN</td>\n",
       "      <td>NaN</td>\n",
       "    </tr>\n",
       "    <tr>\n",
       "      <th>4</th>\n",
       "      <td>4</td>\n",
       "      <td>Fri Jun 18 17:56:20 +0000 2021</td>\n",
       "      <td>&lt;a href=\"http://twitter.com/download/android\" ...</td>\n",
       "      <td>I think it’s important that we don’t sell COVA...</td>\n",
       "      <td>0.280000</td>\n",
       "      <td>0.620000</td>\n",
       "      <td>en</td>\n",
       "      <td>72.0</td>\n",
       "      <td>20.0</td>\n",
       "      <td>pash22</td>\n",
       "      <td>28250</td>\n",
       "      <td>30819</td>\n",
       "      <td>NaN</td>\n",
       "      <td>[]</td>\n",
       "      <td>NaN</td>\n",
       "      <td>United Kingdom</td>\n",
       "    </tr>\n",
       "  </tbody>\n",
       "</table>\n",
       "</div>"
      ],
      "text/plain": [
       "   Unnamed: 0                      created_at  \\\n",
       "0           0  Fri Jun 18 17:55:49 +0000 2021   \n",
       "1           1  Fri Jun 18 17:55:59 +0000 2021   \n",
       "2           2  Fri Jun 18 17:56:07 +0000 2021   \n",
       "3           3  Fri Jun 18 17:56:10 +0000 2021   \n",
       "4           4  Fri Jun 18 17:56:20 +0000 2021   \n",
       "\n",
       "                                              source  \\\n",
       "0  <a href=\"http://twitter.com/download/iphone\" r...   \n",
       "1  <a href=\"https://mobile.twitter.com\" rel=\"nofo...   \n",
       "2  <a href=\"http://twitter.com/download/iphone\" r...   \n",
       "3  <a href=\"https://mobile.twitter.com\" rel=\"nofo...   \n",
       "4  <a href=\"http://twitter.com/download/android\" ...   \n",
       "\n",
       "                                       original_text  polarity  subjectivity  \\\n",
       "0  🚨Africa is \"in the midst of a full-blown third...  0.166667      0.188889   \n",
       "1  Dr Moeti is head of WHO in Africa, and one of ...  0.133333      0.455556   \n",
       "2  Thank you @research2note for creating this ama...  0.316667      0.483333   \n",
       "3  Former Pfizer VP and Virologist, Dr. Michael Y...  0.086111      0.197222   \n",
       "4  I think it’s important that we don’t sell COVA...  0.280000      0.620000   \n",
       "\n",
       "  lang  favorite_count  retweet_count original_author  followers_count  \\\n",
       "0   en           548.0          612.0     ketuesriche              551   \n",
       "1   en           195.0           92.0        Grid1949               66   \n",
       "2   en             2.0            1.0   LeeTomlinson8             1195   \n",
       "3   en          1580.0          899.0         RIPNY08             2666   \n",
       "4   en            72.0           20.0          pash22            28250   \n",
       "\n",
       "   friends_count possibly_sensitive  \\\n",
       "0            351                NaN   \n",
       "1             92                NaN   \n",
       "2           1176                NaN   \n",
       "3           2704                NaN   \n",
       "4          30819                NaN   \n",
       "\n",
       "                                           hashtags user_mentions  \\\n",
       "0                                                []           NaN   \n",
       "1                                                []           NaN   \n",
       "2  [{'text': 'red4research', 'indices': [87, 100]}]           NaN   \n",
       "3      [{'text': 'Covid19', 'indices': [145, 153]}]           NaN   \n",
       "4                                                []           NaN   \n",
       "\n",
       "                 place  \n",
       "0                 Mass  \n",
       "1  Edinburgh, Scotland  \n",
       "2                  NaN  \n",
       "3                  NaN  \n",
       "4       United Kingdom  "
      ]
     },
     "execution_count": 4,
     "metadata": {},
     "output_type": "execute_result"
    }
   ],
   "source": [
    "df.head()"
   ]
  },
  {
   "cell_type": "code",
   "execution_count": 5,
   "metadata": {},
   "outputs": [],
   "source": [
    "Clean_Tweet = df[['original_text','polarity']]"
   ]
  },
  {
   "cell_type": "code",
   "execution_count": 6,
   "metadata": {},
   "outputs": [
    {
     "data": {
      "text/html": [
       "<div>\n",
       "<style scoped>\n",
       "    .dataframe tbody tr th:only-of-type {\n",
       "        vertical-align: middle;\n",
       "    }\n",
       "\n",
       "    .dataframe tbody tr th {\n",
       "        vertical-align: top;\n",
       "    }\n",
       "\n",
       "    .dataframe thead th {\n",
       "        text-align: right;\n",
       "    }\n",
       "</style>\n",
       "<table border=\"1\" class=\"dataframe\">\n",
       "  <thead>\n",
       "    <tr style=\"text-align: right;\">\n",
       "      <th></th>\n",
       "      <th>original_text</th>\n",
       "      <th>polarity</th>\n",
       "    </tr>\n",
       "  </thead>\n",
       "  <tbody>\n",
       "    <tr>\n",
       "      <th>0</th>\n",
       "      <td>🚨Africa is \"in the midst of a full-blown third...</td>\n",
       "      <td>0.166667</td>\n",
       "    </tr>\n",
       "    <tr>\n",
       "      <th>1</th>\n",
       "      <td>Dr Moeti is head of WHO in Africa, and one of ...</td>\n",
       "      <td>0.133333</td>\n",
       "    </tr>\n",
       "    <tr>\n",
       "      <th>2</th>\n",
       "      <td>Thank you @research2note for creating this ama...</td>\n",
       "      <td>0.316667</td>\n",
       "    </tr>\n",
       "    <tr>\n",
       "      <th>3</th>\n",
       "      <td>Former Pfizer VP and Virologist, Dr. Michael Y...</td>\n",
       "      <td>0.086111</td>\n",
       "    </tr>\n",
       "    <tr>\n",
       "      <th>4</th>\n",
       "      <td>I think it’s important that we don’t sell COVA...</td>\n",
       "      <td>0.280000</td>\n",
       "    </tr>\n",
       "  </tbody>\n",
       "</table>\n",
       "</div>"
      ],
      "text/plain": [
       "                                       original_text  polarity\n",
       "0  🚨Africa is \"in the midst of a full-blown third...  0.166667\n",
       "1  Dr Moeti is head of WHO in Africa, and one of ...  0.133333\n",
       "2  Thank you @research2note for creating this ama...  0.316667\n",
       "3  Former Pfizer VP and Virologist, Dr. Michael Y...  0.086111\n",
       "4  I think it’s important that we don’t sell COVA...  0.280000"
      ]
     },
     "execution_count": 6,
     "metadata": {},
     "output_type": "execute_result"
    }
   ],
   "source": [
    "Clean_Tweet.head()"
   ]
  },
  {
   "cell_type": "code",
   "execution_count": 7,
   "metadata": {},
   "outputs": [],
   "source": [
    "def text_category (p):\n",
    "    if p > 0:\n",
    "        return 'positive'\n",
    "    if p < 0:\n",
    "        return 'negative'\n",
    "    else:\n",
    "        return 'neutral'"
   ]
  },
  {
   "cell_type": "code",
   "execution_count": 8,
   "metadata": {},
   "outputs": [],
   "source": [
    "score = pd.Series([text_category(row_value) for row_value in Clean_Tweet['polarity']])"
   ]
  },
  {
   "cell_type": "code",
   "execution_count": 9,
   "metadata": {},
   "outputs": [],
   "source": [
    "Clean_Tweet = pd.concat([Clean_Tweet, score.rename(\"score\")], axis=1)"
   ]
  },
  {
   "cell_type": "code",
   "execution_count": 10,
   "metadata": {},
   "outputs": [
    {
     "data": {
      "text/html": [
       "<div>\n",
       "<style scoped>\n",
       "    .dataframe tbody tr th:only-of-type {\n",
       "        vertical-align: middle;\n",
       "    }\n",
       "\n",
       "    .dataframe tbody tr th {\n",
       "        vertical-align: top;\n",
       "    }\n",
       "\n",
       "    .dataframe thead th {\n",
       "        text-align: right;\n",
       "    }\n",
       "</style>\n",
       "<table border=\"1\" class=\"dataframe\">\n",
       "  <thead>\n",
       "    <tr style=\"text-align: right;\">\n",
       "      <th></th>\n",
       "      <th>original_text</th>\n",
       "      <th>polarity</th>\n",
       "      <th>score</th>\n",
       "    </tr>\n",
       "  </thead>\n",
       "  <tbody>\n",
       "    <tr>\n",
       "      <th>0</th>\n",
       "      <td>🚨Africa is \"in the midst of a full-blown third...</td>\n",
       "      <td>0.166667</td>\n",
       "      <td>positive</td>\n",
       "    </tr>\n",
       "    <tr>\n",
       "      <th>1</th>\n",
       "      <td>Dr Moeti is head of WHO in Africa, and one of ...</td>\n",
       "      <td>0.133333</td>\n",
       "      <td>positive</td>\n",
       "    </tr>\n",
       "    <tr>\n",
       "      <th>2</th>\n",
       "      <td>Thank you @research2note for creating this ama...</td>\n",
       "      <td>0.316667</td>\n",
       "      <td>positive</td>\n",
       "    </tr>\n",
       "    <tr>\n",
       "      <th>3</th>\n",
       "      <td>Former Pfizer VP and Virologist, Dr. Michael Y...</td>\n",
       "      <td>0.086111</td>\n",
       "      <td>positive</td>\n",
       "    </tr>\n",
       "    <tr>\n",
       "      <th>4</th>\n",
       "      <td>I think it’s important that we don’t sell COVA...</td>\n",
       "      <td>0.280000</td>\n",
       "      <td>positive</td>\n",
       "    </tr>\n",
       "  </tbody>\n",
       "</table>\n",
       "</div>"
      ],
      "text/plain": [
       "                                       original_text  polarity     score\n",
       "0  🚨Africa is \"in the midst of a full-blown third...  0.166667  positive\n",
       "1  Dr Moeti is head of WHO in Africa, and one of ...  0.133333  positive\n",
       "2  Thank you @research2note for creating this ama...  0.316667  positive\n",
       "3  Former Pfizer VP and Virologist, Dr. Michael Y...  0.086111  positive\n",
       "4  I think it’s important that we don’t sell COVA...  0.280000  positive"
      ]
     },
     "execution_count": 10,
     "metadata": {},
     "output_type": "execute_result"
    }
   ],
   "source": [
    "Clean_Tweet.head()"
   ]
  },
  {
   "cell_type": "code",
   "execution_count": 11,
   "metadata": {},
   "outputs": [
    {
     "data": {
      "text/plain": [
       "6225"
      ]
     },
     "execution_count": 11,
     "metadata": {},
     "output_type": "execute_result"
    }
   ],
   "source": [
    "len(Clean_Tweet['polarity'])"
   ]
  },
  {
   "cell_type": "code",
   "execution_count": 12,
   "metadata": {},
   "outputs": [
    {
     "data": {
      "text/plain": [
       "[Text(0, 0, 'neutral'), Text(0, 0, 'positive'), Text(0, 0, 'negative')]"
      ]
     },
     "execution_count": 12,
     "metadata": {},
     "output_type": "execute_result"
    },
    {
     "data": {
      "image/png": "[encoded data removed]",
      "text/plain": [
       "<Figure size 720x288 with 1 Axes>"
      ]
     },
     "metadata": {
      "needs_background": "light"
     },
     "output_type": "display_data"
    }
   ],
   "source": [
    "labels = ['neutral', 'positive', 'negative']\n",
    "positive = len(Clean_Tweet[Clean_Tweet['score'] == \"positive\"])\n",
    "neutral = len(Clean_Tweet[Clean_Tweet['score'] == \"neutral\"])\n",
    "negative = len(Clean_Tweet[Clean_Tweet['score'] == \"negative\"])\n",
    "fig, ax = plt.subplots(1, 1, figsize = (10,4))\n",
    "ax.bar(x=labels, height=[negative, positive, neutral], color='green')\n",
    "ax.set_title('Barchart of score column')\n",
    "ax.set_xticklabels(labels, rotation=90)"
   ]
  },
  {
   "cell_type": "code",
   "execution_count": 13,
   "metadata": {},
   "outputs": [],
   "source": [
    "Clean_Tweet = Clean_Tweet.drop(Clean_Tweet[Clean_Tweet.score == 'neutral'].index)\n",
    "scoremap = pd.Series([1 if row_val == 'positive' else 0 for row_val in Clean_Tweet['score']])\n",
    "Clean_Tweet['scoremap'] = scoremap"
   ]
  },
  {
   "cell_type": "code",
   "execution_count": 14,
   "metadata": {},
   "outputs": [
    {
     "data": {
      "image/png": "[encoded data removed]",
      "text/plain": [
       "<Figure size 432x288 with 1 Axes>"
      ]
     },
     "metadata": {
      "needs_background": "light"
     },
     "output_type": "display_data"
    }
   ],
   "source": [
    "fig=plt.figure()\n",
    "ax = fig.add_subplot(1,1,1)\n",
    "\n",
    "ax.hist(Clean_Tweet['scoremap'],bins = 5,color='green')\n",
    "\n",
    "plt.title('Tweet distribution')\n",
    "plt.xlabel('Sentiment')\n",
    "plt.ylabel('Analysis')\n",
    "plt.show()"
   ]
  },
  {
   "cell_type": "code",
   "execution_count": 15,
   "metadata": {},
   "outputs": [],
   "source": [
    "Clean_Tweet.dropna(axis = 0, how ='any',inplace=True)"
   ]
  },
  {
   "cell_type": "code",
   "execution_count": 16,
   "metadata": {},
   "outputs": [
    {
     "data": {
      "text/plain": [
       "154    Yet another amazingly qualified and courageous...\n",
       "155    \"Africa is in the midst of a full-blown third ...\n",
       "156    We are dying! Ugandans need the world to stand...\n",
       "157    A new @EurobarometerEU survey shows 79% of Eur...\n",
       "159    17 June 2021: #COVID19 in South Africa 🇿🇦\\n\\nD...\n",
       "161    You can get a #COVID19 vaccine and other vacci...\n",
       "162    Dr Moeti is head of WHO in Africa, and one of ...\n",
       "164    Israel will deliver more than a million doses ...\n",
       "165    Covid vaccines in healthy young people poses a...\n",
       "167    \"Africa is in the midst of a full-blown third ...\n",
       "Name: original_text, dtype: object"
      ]
     },
     "execution_count": 16,
     "metadata": {},
     "output_type": "execute_result"
    }
   ],
   "source": [
    "Clean_Tweet['original_text'][100:110]"
   ]
  },
  {
   "cell_type": "code",
   "execution_count": 17,
   "metadata": {},
   "outputs": [],
   "source": [
    "Clean_Tweet['original_text']= Clean_Tweet['original_text'].apply(lambda x: x.translate(str.maketrans(' ', ' ', string.punctuation)))\n",
    "Clean_Tweet['original_text']=Clean_Tweet['original_text'].astype(str)\n",
    "Clean_Tweet['original_text'] = Clean_Tweet['original_text'].apply(lambda x: x.lower())"
   ]
  },
  {
   "cell_type": "code",
   "execution_count": 18,
   "metadata": {},
   "outputs": [
    {
     "name": "stdout",
     "output_type": "stream",
     "text": [
      "Requirement already satisfied: nltk in /root/anaconda3/lib/python3.7/site-packages (3.4.5)\r\n",
      "Requirement already satisfied: six in /root/anaconda3/lib/python3.7/site-packages (from nltk) (1.14.0)\r\n"
     ]
    }
   ],
   "source": [
    "!pip install nltk"
   ]
  },
  {
   "cell_type": "code",
   "execution_count": 39,
   "metadata": {},
   "outputs": [
    {
     "name": "stdout",
     "output_type": "stream",
     "text": [
      "Collecting spacy\n",
      "  Downloading spacy-3.0.6-cp37-cp37m-manylinux2014_x86_64.whl (12.8 MB)\n",
      "\u001b[K     |████████████████████████████████| 12.8 MB 1.3 MB/s eta 0:00:01\n",
      "\u001b[?25hRequirement already satisfied: numpy>=1.15.0 in /root/anaconda3/lib/python3.7/site-packages (from spacy) (1.21.0)\n",
      "Collecting thinc<8.1.0,>=8.0.3\n",
      "  Downloading thinc-8.0.6-cp37-cp37m-manylinux_2_17_x86_64.manylinux2014_x86_64.whl (618 kB)\n",
      "\u001b[K     |████████████████████████████████| 618 kB 2.1 MB/s eta 0:00:01\n",
      "\u001b[?25hRequirement already satisfied: setuptools in /root/anaconda3/lib/python3.7/site-packages (from spacy) (45.2.0.post20200210)\n",
      "Collecting spacy-legacy<3.1.0,>=3.0.4\n",
      "  Using cached spacy_legacy-3.0.6-py2.py3-none-any.whl (12 kB)\n",
      "Collecting pathy>=0.3.5\n",
      "  Using cached pathy-0.5.2-py3-none-any.whl (42 kB)\n",
      "Collecting typing-extensions<4.0.0.0,>=3.7.4; python_version < \"3.8\"\n",
      "  Downloading typing_extensions-3.10.0.0-py3-none-any.whl (26 kB)\n",
      "Collecting wasabi<1.1.0,>=0.8.1\n",
      "  Using cached wasabi-0.8.2-py3-none-any.whl (23 kB)\n",
      "Requirement already satisfied: requests<3.0.0,>=2.13.0 in /root/anaconda3/lib/python3.7/site-packages (from spacy) (2.22.0)\n",
      "Requirement already satisfied: jinja2 in /root/anaconda3/lib/python3.7/site-packages (from spacy) (2.11.1)\n",
      "Collecting preshed<3.1.0,>=3.0.2\n",
      "  Downloading preshed-3.0.5-cp37-cp37m-manylinux2014_x86_64.whl (126 kB)\n",
      "\u001b[K     |████████████████████████████████| 126 kB 2.0 MB/s eta 0:00:01\n",
      "\u001b[?25hCollecting typer<0.4.0,>=0.3.0\n",
      "  Using cached typer-0.3.2-py3-none-any.whl (21 kB)\n",
      "Collecting pydantic<1.8.0,>=1.7.1\n",
      "  Downloading pydantic-1.7.4-cp37-cp37m-manylinux2014_x86_64.whl (9.1 MB)\n",
      "\u001b[K     |████████████████████████████████| 9.1 MB 3.9 MB/s eta 0:00:01\n",
      "\u001b[?25hCollecting blis<0.8.0,>=0.4.0\n",
      "  Downloading blis-0.7.4-cp37-cp37m-manylinux2014_x86_64.whl (9.8 MB)\n",
      "\u001b[K     |████████████████████████████████| 9.8 MB 1.6 MB/s eta 0:00:01\n",
      "\u001b[?25hCollecting cymem<2.1.0,>=2.0.2\n",
      "  Downloading cymem-2.0.5-cp37-cp37m-manylinux2014_x86_64.whl (35 kB)\n",
      "Collecting srsly<3.0.0,>=2.4.1\n",
      "  Downloading srsly-2.4.1-cp37-cp37m-manylinux2014_x86_64.whl (456 kB)\n",
      "\u001b[K     |████████████████████████████████| 456 kB 1.6 MB/s eta 0:00:01\n",
      "\u001b[?25hRequirement already satisfied: tqdm<5.0.0,>=4.38.0 in /root/anaconda3/lib/python3.7/site-packages (from spacy) (4.42.1)\n",
      "Requirement already satisfied: packaging>=20.0 in /root/anaconda3/lib/python3.7/site-packages (from spacy) (20.1)\n",
      "Collecting catalogue<2.1.0,>=2.0.3\n",
      "  Using cached catalogue-2.0.4-py3-none-any.whl (16 kB)\n",
      "Collecting murmurhash<1.1.0,>=0.28.0\n",
      "  Downloading murmurhash-1.0.5-cp37-cp37m-manylinux2014_x86_64.whl (20 kB)\n",
      "Collecting smart-open<4.0.0,>=2.2.0\n",
      "  Using cached smart_open-3.0.0.tar.gz (113 kB)\n",
      "Requirement already satisfied: urllib3!=1.25.0,!=1.25.1,<1.26,>=1.21.1 in /root/anaconda3/lib/python3.7/site-packages (from requests<3.0.0,>=2.13.0->spacy) (1.25.8)\n",
      "Requirement already satisfied: idna<2.9,>=2.5 in /root/anaconda3/lib/python3.7/site-packages (from requests<3.0.0,>=2.13.0->spacy) (2.8)\n",
      "Requirement already satisfied: chardet<3.1.0,>=3.0.2 in /root/anaconda3/lib/python3.7/site-packages (from requests<3.0.0,>=2.13.0->spacy) (3.0.4)\n",
      "Requirement already satisfied: certifi>=2017.4.17 in /root/anaconda3/lib/python3.7/site-packages (from requests<3.0.0,>=2.13.0->spacy) (2019.11.28)\n",
      "Requirement already satisfied: MarkupSafe>=0.23 in /root/anaconda3/lib/python3.7/site-packages (from jinja2->spacy) (1.1.1)\n",
      "Collecting click<7.2.0,>=7.1.1\n",
      "  Using cached click-7.1.2-py2.py3-none-any.whl (82 kB)\n",
      "Requirement already satisfied: pyparsing>=2.0.2 in /root/anaconda3/lib/python3.7/site-packages (from packaging>=20.0->spacy) (2.4.6)\n",
      "Requirement already satisfied: six in /root/anaconda3/lib/python3.7/site-packages (from packaging>=20.0->spacy) (1.14.0)\n",
      "Requirement already satisfied: zipp>=0.5; python_version < \"3.8\" in /root/anaconda3/lib/python3.7/site-packages (from catalogue<2.1.0,>=2.0.3->spacy) (2.2.0)\n",
      "Building wheels for collected packages: smart-open\n",
      "  Building wheel for smart-open (setup.py) ... \u001b[?25ldone\n",
      "\u001b[?25h  Created wheel for smart-open: filename=smart_open-3.0.0-py3-none-any.whl size=107097 sha256=9f0fb076b6ac524abb124f19755e16740677d4e40815ed73856bfc2d813db87d\n",
      "  Stored in directory: /root/.cache/pip/wheels/83/a6/12/bf3c1a667bde4251be5b7a3368b2d604c9af2105b5c1cb1870\n",
      "Successfully built smart-open\n",
      "Installing collected packages: blis, cymem, wasabi, murmurhash, typing-extensions, pydantic, catalogue, srsly, preshed, thinc, spacy-legacy, click, typer, smart-open, pathy, spacy\n",
      "  Attempting uninstall: click\n",
      "    Found existing installation: Click 7.0\n",
      "    Uninstalling Click-7.0:\n",
      "      Successfully uninstalled Click-7.0\n",
      "  Attempting uninstall: smart-open\n",
      "    Found existing installation: smart-open 5.1.0\n",
      "    Uninstalling smart-open-5.1.0:\n",
      "      Successfully uninstalled smart-open-5.1.0\n",
      "Successfully installed blis-0.7.4 catalogue-2.0.4 click-7.1.2 cymem-2.0.5 murmurhash-1.0.5 pathy-0.5.2 preshed-3.0.5 pydantic-1.7.4 smart-open-3.0.0 spacy-3.0.6 spacy-legacy-3.0.6 srsly-2.4.1 thinc-8.0.6 typer-0.3.2 typing-extensions-3.10.0.0 wasabi-0.8.2\n",
      "Note: you may need to restart the kernel to use updated packages.\n"
     ]
    }
   ],
   "source": [
    "pip install spacy"
   ]
  },
  {
   "cell_type": "code",
   "execution_count": 31,
   "metadata": {},
   "outputs": [
    {
     "name": "stderr",
     "output_type": "stream",
     "text": [
      "[nltk_data] Downloading package stopwords to /root/nltk_data...\n",
      "[nltk_data]   Unzipping corpora/stopwords.zip.\n"
     ]
    },
    {
     "data": {
      "text/plain": [
       "True"
      ]
     },
     "execution_count": 31,
     "metadata": {},
     "output_type": "execute_result"
    }
   ],
   "source": [
    "import nltk\n",
    "nltk.download('stopwords')"
   ]
  },
  {
   "cell_type": "code",
   "execution_count": 19,
   "metadata": {},
   "outputs": [],
   "source": [
    "from nltk.corpus import stopwords\n",
    "stop_words = stopwords.words('english')\n",
    "def remove_stopwords(text):\n",
    "    textArr = text.split(' ')\n",
    "    rem_text = \" \".join([i for i in textArr if i not in stop_words])\n",
    "    return rem_text"
   ]
  },
  {
   "cell_type": "code",
   "execution_count": 20,
   "metadata": {},
   "outputs": [],
   "source": [
    "Clean_Tweet['original_text']=Clean_Tweet['original_text'].apply(remove_stopwords)"
   ]
  },
  {
   "cell_type": "code",
   "execution_count": 22,
   "metadata": {},
   "outputs": [
    {
     "name": "stdout",
     "output_type": "stream",
     "text": [
      "Collecting en-core-web-md==3.0.0\n",
      "  Downloading https://github.com/explosion/spacy-models/releases/download/en_core_web_md-3.0.0/en_core_web_md-3.0.0-py3-none-any.whl (47.1 MB)\n",
      "\u001b[K     |████████████████████████████████| 47.1 MB 6.6 kB/s eta 0:00:01\n",
      "\u001b[?25hRequirement already satisfied: spacy<3.1.0,>=3.0.0 in /root/anaconda3/lib/python3.7/site-packages (from en-core-web-md==3.0.0) (3.0.6)\n",
      "Requirement already satisfied: wasabi<1.1.0,>=0.8.1 in /root/anaconda3/lib/python3.7/site-packages (from spacy<3.1.0,>=3.0.0->en-core-web-md==3.0.0) (0.8.2)\n",
      "Requirement already satisfied: requests<3.0.0,>=2.13.0 in /root/anaconda3/lib/python3.7/site-packages (from spacy<3.1.0,>=3.0.0->en-core-web-md==3.0.0) (2.22.0)\n",
      "Requirement already satisfied: srsly<3.0.0,>=2.4.1 in /root/anaconda3/lib/python3.7/site-packages (from spacy<3.1.0,>=3.0.0->en-core-web-md==3.0.0) (2.4.1)\n",
      "Requirement already satisfied: spacy-legacy<3.1.0,>=3.0.4 in /root/anaconda3/lib/python3.7/site-packages (from spacy<3.1.0,>=3.0.0->en-core-web-md==3.0.0) (3.0.6)\n",
      "Requirement already satisfied: blis<0.8.0,>=0.4.0 in /root/anaconda3/lib/python3.7/site-packages (from spacy<3.1.0,>=3.0.0->en-core-web-md==3.0.0) (0.7.4)\n",
      "Requirement already satisfied: packaging>=20.0 in /root/anaconda3/lib/python3.7/site-packages (from spacy<3.1.0,>=3.0.0->en-core-web-md==3.0.0) (20.1)\n",
      "Requirement already satisfied: typing-extensions<4.0.0.0,>=3.7.4; python_version < \"3.8\" in /root/anaconda3/lib/python3.7/site-packages (from spacy<3.1.0,>=3.0.0->en-core-web-md==3.0.0) (3.10.0.0)\n",
      "Requirement already satisfied: pydantic<1.8.0,>=1.7.1 in /root/anaconda3/lib/python3.7/site-packages (from spacy<3.1.0,>=3.0.0->en-core-web-md==3.0.0) (1.7.4)\n",
      "Requirement already satisfied: murmurhash<1.1.0,>=0.28.0 in /root/anaconda3/lib/python3.7/site-packages (from spacy<3.1.0,>=3.0.0->en-core-web-md==3.0.0) (1.0.5)\n",
      "Requirement already satisfied: numpy>=1.15.0 in /root/anaconda3/lib/python3.7/site-packages (from spacy<3.1.0,>=3.0.0->en-core-web-md==3.0.0) (1.21.0)\n",
      "Requirement already satisfied: catalogue<2.1.0,>=2.0.3 in /root/anaconda3/lib/python3.7/site-packages (from spacy<3.1.0,>=3.0.0->en-core-web-md==3.0.0) (2.0.4)\n",
      "Requirement already satisfied: typer<0.4.0,>=0.3.0 in /root/anaconda3/lib/python3.7/site-packages (from spacy<3.1.0,>=3.0.0->en-core-web-md==3.0.0) (0.3.2)\n",
      "Requirement already satisfied: jinja2 in /root/anaconda3/lib/python3.7/site-packages (from spacy<3.1.0,>=3.0.0->en-core-web-md==3.0.0) (2.11.1)\n",
      "Requirement already satisfied: setuptools in /root/anaconda3/lib/python3.7/site-packages (from spacy<3.1.0,>=3.0.0->en-core-web-md==3.0.0) (45.2.0.post20200210)\n",
      "Requirement already satisfied: pathy>=0.3.5 in /root/anaconda3/lib/python3.7/site-packages (from spacy<3.1.0,>=3.0.0->en-core-web-md==3.0.0) (0.5.2)\n",
      "Requirement already satisfied: preshed<3.1.0,>=3.0.2 in /root/anaconda3/lib/python3.7/site-packages (from spacy<3.1.0,>=3.0.0->en-core-web-md==3.0.0) (3.0.5)\n",
      "Requirement already satisfied: cymem<2.1.0,>=2.0.2 in /root/anaconda3/lib/python3.7/site-packages (from spacy<3.1.0,>=3.0.0->en-core-web-md==3.0.0) (2.0.5)\n",
      "Requirement already satisfied: thinc<8.1.0,>=8.0.3 in /root/anaconda3/lib/python3.7/site-packages (from spacy<3.1.0,>=3.0.0->en-core-web-md==3.0.0) (8.0.6)\n",
      "Requirement already satisfied: tqdm<5.0.0,>=4.38.0 in /root/anaconda3/lib/python3.7/site-packages (from spacy<3.1.0,>=3.0.0->en-core-web-md==3.0.0) (4.42.1)\n",
      "Requirement already satisfied: urllib3!=1.25.0,!=1.25.1,<1.26,>=1.21.1 in /root/anaconda3/lib/python3.7/site-packages (from requests<3.0.0,>=2.13.0->spacy<3.1.0,>=3.0.0->en-core-web-md==3.0.0) (1.25.8)\n",
      "Requirement already satisfied: certifi>=2017.4.17 in /root/anaconda3/lib/python3.7/site-packages (from requests<3.0.0,>=2.13.0->spacy<3.1.0,>=3.0.0->en-core-web-md==3.0.0) (2019.11.28)\n",
      "Requirement already satisfied: chardet<3.1.0,>=3.0.2 in /root/anaconda3/lib/python3.7/site-packages (from requests<3.0.0,>=2.13.0->spacy<3.1.0,>=3.0.0->en-core-web-md==3.0.0) (3.0.4)\n",
      "Requirement already satisfied: idna<2.9,>=2.5 in /root/anaconda3/lib/python3.7/site-packages (from requests<3.0.0,>=2.13.0->spacy<3.1.0,>=3.0.0->en-core-web-md==3.0.0) (2.8)\n",
      "Requirement already satisfied: six in /root/anaconda3/lib/python3.7/site-packages (from packaging>=20.0->spacy<3.1.0,>=3.0.0->en-core-web-md==3.0.0) (1.14.0)\n",
      "Requirement already satisfied: pyparsing>=2.0.2 in /root/anaconda3/lib/python3.7/site-packages (from packaging>=20.0->spacy<3.1.0,>=3.0.0->en-core-web-md==3.0.0) (2.4.6)\n",
      "Requirement already satisfied: zipp>=0.5; python_version < \"3.8\" in /root/anaconda3/lib/python3.7/site-packages (from catalogue<2.1.0,>=2.0.3->spacy<3.1.0,>=3.0.0->en-core-web-md==3.0.0) (2.2.0)\n",
      "Requirement already satisfied: click<7.2.0,>=7.1.1 in /root/anaconda3/lib/python3.7/site-packages (from typer<0.4.0,>=0.3.0->spacy<3.1.0,>=3.0.0->en-core-web-md==3.0.0) (7.1.2)\n",
      "Requirement already satisfied: MarkupSafe>=0.23 in /root/anaconda3/lib/python3.7/site-packages (from jinja2->spacy<3.1.0,>=3.0.0->en-core-web-md==3.0.0) (1.1.1)\n",
      "Requirement already satisfied: smart-open<4.0.0,>=2.2.0 in /root/anaconda3/lib/python3.7/site-packages (from pathy>=0.3.5->spacy<3.1.0,>=3.0.0->en-core-web-md==3.0.0) (3.0.0)\n",
      "Installing collected packages: en-core-web-md\n",
      "Successfully installed en-core-web-md-3.0.0\n",
      "\u001b[38;5;2m✔ Download and installation successful\u001b[0m\n",
      "You can now load the package via spacy.load('en_core_web_md')\n"
     ]
    }
   ],
   "source": [
    "!python3 -m spacy download en_core_web_md "
   ]
  },
  {
   "cell_type": "code",
   "execution_count": 23,
   "metadata": {},
   "outputs": [],
   "source": [
    "nlp = spacy.load('en_core_web_md', disable=['parser', 'ner'])\n",
    "\n",
    "def lemmatization(texts,allowed_postags=['NOUN', 'ADJ']): \n",
    "       output = []\n",
    "       for sent in texts:\n",
    "             doc = nlp(sent) \n",
    "             output.append([token.lemma_ for token in doc if token.pos_ in allowed_postags ])\n",
    "       return output"
   ]
  },
  {
   "cell_type": "code",
   "execution_count": 24,
   "metadata": {},
   "outputs": [],
   "source": [
    "text_list=Clean_Tweet['original_text'].tolist()\n",
    "tokenized_reviews = lemmatization(text_list)\n"
   ]
  },
  {
   "cell_type": "code",
   "execution_count": 25,
   "metadata": {},
   "outputs": [
    {
     "data": {
      "text/plain": [
       "['pleased',\n",
       " 'welcome',\n",
       " 'wecandothis',\n",
       " 'bus',\n",
       " 'atlanta',\n",
       " 'today',\n",
       " 'easy',\n",
       " 'way',\n",
       " 'covid19',\n",
       " 'vaccine',\n",
       " 'search',\n",
       " 'httpstcod2pdwips8o',\n",
       " '📱',\n",
       " 'text',\n",
       " 'zip',\n",
       " 'code',\n",
       " 'httpstcoammcmmctip']"
      ]
     },
     "execution_count": 25,
     "metadata": {},
     "output_type": "execute_result"
    }
   ],
   "source": [
    "tokenized_reviews[5]"
   ]
  },
  {
   "cell_type": "code",
   "execution_count": 26,
   "metadata": {},
   "outputs": [],
   "source": [
    "dictionary = corpora.Dictionary(tokenized_reviews)\n",
    "doc_term_matrix = [dictionary.doc2bow(rev) for rev in tokenized_reviews]\n",
    "\n",
    "# Creating the object for LDA model using gensim library\n",
    "LDA = gensim.models.ldamodel.LdaModel\n",
    "\n",
    "# Build LDA model\n",
    "lda_model = LDA(corpus=doc_term_matrix, id2word=dictionary, num_topics=5, random_state=100,\n",
    "                chunksize=500, passes=50,iterations=100)"
   ]
  },
  {
   "cell_type": "code",
   "execution_count": 27,
   "metadata": {},
   "outputs": [
    {
     "data": {
      "text/html": [
       "\n",
       "<link rel=\"stylesheet\" type=\"text/css\" href=\"https://cdn.jsdelivr.net/gh/bmabey/pyLDAvis@3.3.1/pyLDAvis/js/ldavis.v1.0.0.css\">\n",
       "\n",
       "\n",
       "<div id=\"ldavis_el139511400552623223847691341013\"></div>\n",
       "<script type=\"text/javascript\">\n",
       "\n",
       "var ldavis_el139511400552623223847691341013_data = {\"mdsDat\": {\"x\": [-0.15762998049106253, 0.18473142687495805, 0.155844205410607, -0.23854200748109852, 0.05559635568659582], \"y\": [-0.025298487467113676, -0.16796321712512466, -0.046428432132348235, -0.07122494484818899, 0.3109150815727757], \"topics\": [1, 2, 3, 4, 5], \"cluster\": [1, 1, 1, 1, 1], \"Freq\": [23.60008377637736, 19.529684989041392, 19.272468712790037, 19.26811360231752, 18.329648919473687]}, \"tinfo\": {\"Term\": [\"africa\", \"case\", \"wave\", \"third\", \"production\", \"leader\", \"expert\", \"patent\", \"dose\", \"germany\", \"technology\", \"uk\", \"request\", \"restriction\", \"desperate\", \"lift\", \"public\", \"patient\", \"head\", \"good\", \"india\", \"safe\", \"variant\", \"coronavirus\", \"system\", \"vaccine\", \"health\", \"palestinian\", \"oxygen\", \"safety\", \"government\", \"pfizer\", \"support\", \"effect\", \"lockdown\", \"authority\", \"side\", \"flu\", \"medical\", \"httpstcobv3mn5xdle\", \"shingle\", \"vaccinated\", \"solution\", \"israel\", \"un\", \"order\", \"politician\", \"agenda\", \"twitter\", \"afternoon\", \"science\", \"pa\", \"corona\", \"1st\", \"policy\", \"intervention\", \"bitunia\", \"crossing\", \"courageous\", \"crazy\", \"pandemic\", \"efficacy\", \"more\", \"vaccine\", \"world\", \"day\", \"covid19\", \"people\", \"dose\", \"amp\", \"palestinian\", \"doctor\", \"new\", \"full\", \"health\", \"india\", \"way\", \"action\", \"moetitshidi\", \"trajectory\", \"rebound\", \"urgent\", \"overwhelm\", \"sobering\", \"code\", \"zip\", \"wecandothis\", \"search\", \"text\", \"\\ud83d\\udcf1\", \"welcome\", \"easy\", \"pleased\", \"bus\", \"atlanta\", \"httpstcoammcmmctip\", \"httpstcod2pdwips8o\", \"call\", \"blown\", \"critical\", \"httpstcokudpxpqq22\", \"muchneeded\", \"httpstcocemrzeidyr\", \"uganda\", \"thank\", \"wave\", \"third\", \"today\", \"dose\", \"covid19\", \"case\", \"africa\", \"midst\", \"vaccine\", \"system\", \"health\", \"coronavirus\", \"open\", \"week\", \"total\", \"continent\", \"last\", \"whoafro\", \"jrigger\", \"supply\", \"hselive\", \"icu\", \"inpatient\", \"michigan\", \"drop\", \"high\", \"httpstcoipdmndwmpv\", \"benefit\", \"credit\", \"york\", \"fordnation\", \"neighbour\", \"qu\\u00e9bec\", \"next\", \"daily\", \"thing\", \"update\", \"yesterday\", \"progress\", \"test\", \"jab\", \"hospital\", \"ontario\", \"year\", \"huge\", \"death\", \"case\", \"new\", \"june\", \"fullblown\", \"covid19\", \"vaccine\", \"time\", \"midst\", \"africa\", \"wave\", \"third\", \"head\", \"amp\", \"patient\", \"variant\", \"oxygen\", \"safety\", \"worker\", \"ugandan\", \"possible\", \"event\", \"concern\", \"ppe\", \"sure\", \"adverse\", \"dailymonitor\", \"money\", \"vaer\", \"issue\", \"cdc\", \"potential\", \"usfda\", \"monitoring\", \"delta\", \"biocubafarma\", \"sinovac\", \"pregnant\", \"indonesia\", \"infectious\", \"dozen\", \"woman\", \"large\", \"unvaccinated\", \"safe\", \"covid\", \"failure\", \"system\", \"vaccine\", \"doctor\", \"covid19\", \"amp\", \"world\", \"virus\", \"people\", \"health\", \"production\", \"leader\", \"expert\", \"patent\", \"germany\", \"technology\", \"uk\", \"request\", \"restriction\", \"desperate\", \"lift\", \"aipac\", \"south\", \"department\", \"child\", \"crisis\", \"question\", \"disastrous\", \"book\", \"httpstcosogiroihoc\", \"healthcare\", \"american\", \"young\", \"fact\", \"fda\", \"ethical\", \"healthy\", \"gaza\", \"west\", \"fair\", \"public\", \"good\", \"africa\", \"head\", \"risk\", \"health\", \"palestinian\", \"vaccine\", \"bad\", \"life\", \"covid19\", \"world\", \"death\", \"people\"], \"Freq\": [805.0, 320.0, 280.0, 263.0, 167.0, 166.0, 166.0, 158.0, 382.0, 156.0, 155.0, 153.0, 151.0, 151.0, 150.0, 149.0, 220.0, 143.0, 209.0, 218.0, 134.0, 143.0, 117.0, 117.0, 198.0, 2061.0, 394.0, 185.0, 105.0, 104.0, 101.40344734397942, 80.03552242706371, 74.58645218374635, 64.07399775185112, 61.51216064973034, 57.841607798602766, 56.14832254495336, 55.82979812100742, 56.562808471414364, 54.386644734069776, 54.386644734069776, 52.80665864530137, 49.68736414513985, 47.547642809917406, 43.038816362765004, 41.478372817486836, 40.66204968548944, 40.69696929201494, 39.19612415940035, 38.4961775083855, 37.010925168182354, 36.75110451448696, 36.560025392016655, 35.36229272291366, 34.993760326072156, 34.862657142673754, 34.41559925289875, 34.41559925289875, 34.04752369473624, 34.04752369473624, 92.12037752216158, 48.943218351932465, 75.58891486999745, 931.9866400815847, 160.3645637053802, 93.73979449941054, 340.69417053928794, 103.29286867047632, 136.2409180819829, 109.01667027437287, 79.78792855301303, 54.098791951432865, 60.88385518655584, 52.95022654515645, 46.16899885144251, 133.86180887906744, 93.39903900817488, 92.82982786105734, 91.34916899231557, 89.80882087259202, 89.69745484397455, 89.69728682356363, 89.00192385166704, 89.00192385166704, 71.72949386667565, 71.72949386667565, 70.1522705173915, 69.85727393154447, 69.85727393154447, 69.85727393154447, 69.80019949820775, 68.40964682546335, 68.29908939507347, 68.18721405458537, 66.796561619722, 66.796561619722, 66.796561619722, 58.38231996729315, 57.93050783167293, 56.08680411065874, 53.27919879598409, 53.27919879598409, 31.953683321814406, 30.963945964655014, 25.53202722639449, 213.8436724841574, 198.6376362723124, 115.68599090153846, 215.38782206567817, 339.46547687692714, 147.37803231439375, 204.14935682980644, 85.06366718676269, 214.93263376992587, 89.17015428810758, 91.21857512792265, 116.3469625942705, 95.47537441363542, 95.51440135236761, 74.46168921125422, 63.98664019690122, 62.44142317064304, 56.990641728937824, 56.122763857205506, 45.973682011684474, 41.369806384552966, 39.854621240516224, 39.10885799684697, 34.25150934583864, 32.337401735924075, 31.77625218231839, 31.457570180222675, 31.656241236826393, 29.675940166701555, 29.32440237351438, 27.999758537426175, 27.999758537426175, 27.999758537426175, 28.05825231216698, 27.872856217994475, 26.09445945059243, 20.848179530547803, 20.15692420492529, 17.911881678235382, 17.50656396552668, 16.931218440679423, 99.7701097417614, 57.20282868698643, 46.466606963287134, 40.54927432438006, 121.798536803053, 172.9093909273447, 113.28672623146886, 51.81678988992523, 56.77163593772782, 208.29502093651757, 230.8536485464962, 51.381021890148766, 56.75134524573695, 97.8844225724929, 66.46117195263834, 64.45022758516058, 59.45982619301647, 51.74369987429109, 142.31767947174492, 117.05251458041205, 104.68294182005319, 104.06696112909665, 89.84434886760519, 65.67829622423658, 57.750634885040135, 55.883587816810724, 53.98650529221029, 52.76735482502742, 52.52817458078688, 52.08446002749198, 51.33050687275727, 51.33050687275727, 50.09497107468417, 49.87439333541575, 49.24881352395983, 48.47563104634667, 47.98003047528492, 47.73806840281547, 44.703772426109865, 38.8140955424493, 37.42880206789638, 35.51539119585174, 35.05348079217684, 35.05348079217684, 34.112181607835694, 28.59750242187127, 26.40235503202832, 26.14884345111127, 131.50794048112854, 86.94749696272366, 56.8634233516079, 108.70657402610314, 413.54154924578586, 70.29729147440679, 237.82059849700994, 106.38046831665696, 110.735163983514, 61.49409502790096, 58.24121573253798, 61.532760886188875, 166.4303540302575, 165.89448297277744, 165.3427141772853, 157.72412979526473, 155.73540457480834, 154.75935442411296, 153.0075873048877, 150.75085756364786, 150.55444707195275, 150.0316943587343, 149.03745002058062, 49.630589464277826, 49.49367968205499, 39.49514330519182, 32.1259503762326, 31.942273844557075, 29.433972008882524, 28.726081611068377, 29.050331895274233, 23.050628564790113, 19.78560351654756, 19.87525867701045, 18.707596677642037, 13.30282528983326, 12.340208875598146, 11.379011726256852, 11.122204860525413, 11.03266920413778, 10.548421443168957, 10.38472303607522, 175.74564002482427, 166.14961554945444, 503.2047835955501, 149.10589998368894, 57.337040141634716, 195.66916233223012, 105.12882409587237, 270.26314287791473, 30.66875464252207, 26.091647535958458, 61.222524188629, 39.57598966010711, 30.337785026084525, 30.39582211863504], \"Total\": [805.0, 320.0, 280.0, 263.0, 167.0, 166.0, 166.0, 158.0, 382.0, 156.0, 155.0, 153.0, 151.0, 151.0, 150.0, 149.0, 220.0, 143.0, 209.0, 218.0, 134.0, 143.0, 117.0, 117.0, 198.0, 2061.0, 394.0, 185.0, 105.0, 104.0, 102.15367926647653, 80.7863106983018, 75.34384540983649, 64.82578526800272, 62.27305722394868, 58.59616071344287, 56.89842330484067, 56.5805956749715, 57.32903976790596, 55.1356225262051, 55.1356225262051, 53.56695252320113, 50.438952325562646, 48.29978974930453, 43.79138026523948, 42.22769541015437, 41.41155624189895, 41.44946879489584, 39.947916249118904, 39.24535127048184, 37.76288889428579, 37.500310917313634, 37.31281109551073, 36.11138653830488, 35.74320445243881, 35.61250001870591, 35.16458581972949, 35.16458581972949, 34.796499044259406, 34.796499044259406, 98.9228294962242, 52.458705592814795, 87.11327162704615, 2061.5776145217073, 326.1567894354708, 159.15339268750176, 1187.4977910383716, 192.2971879449584, 382.49785422042794, 288.24247092831905, 185.46665971120245, 124.95661398218225, 193.2506862981114, 128.87173544121984, 394.7655319895241, 134.61602884020255, 94.15444968473051, 93.58259729988994, 92.10329886553883, 90.55995771728486, 90.44859749156124, 90.44855514278686, 89.75303034674538, 89.75303034674538, 72.48079400915847, 72.48079400915847, 70.9044500135792, 70.60846749321958, 70.60846749321958, 70.60846749321958, 70.55250664237424, 69.16141417134973, 69.05019563984172, 68.93873789508261, 67.5476678520977, 67.5476678520977, 67.5476678520977, 59.13872623745258, 58.68167067515143, 56.83868947745014, 54.03030502381946, 54.03030502381946, 32.70478964886117, 31.725732405977926, 26.288218174677898, 280.88261683029515, 263.66565085924293, 141.9359701962744, 382.49785422042794, 1187.4977910383716, 320.8661935403123, 805.6202632458893, 142.3923111549635, 2061.5776145217073, 198.43982776174033, 394.7655319895241, 117.11773704295045, 96.24159638718231, 96.28103563044291, 75.22934087990194, 64.7529931022665, 63.207238267467545, 57.75542706696053, 56.88754919522821, 46.74202500376996, 42.13589575065716, 40.62305262084932, 39.87506509340119, 35.016294552719025, 33.10391280535515, 32.54691864779841, 32.225038284363954, 32.428702939127746, 30.442856276692265, 30.089353670977495, 28.76454464104232, 28.76454464104232, 28.76454464104232, 28.825149315212542, 28.640694951028753, 26.8640884125628, 21.62398196875672, 20.92232468486326, 18.67800075299596, 18.275676337301025, 17.70142453535335, 111.20755437737994, 65.47701758455149, 52.37116678616215, 45.765357035338155, 163.6490796478298, 320.8661935403123, 193.2506862981114, 71.55173127470478, 89.2982626806873, 1187.4977910383716, 2061.5776145217073, 110.91604210386166, 142.3923111549635, 805.6202632458893, 280.88261683029515, 263.66565085924293, 209.13224195698484, 288.24247092831905, 143.069170061783, 117.80800916460551, 105.43338386199132, 104.81970657478024, 90.59607949597262, 66.43057046047691, 58.50252636914083, 56.637315951044506, 54.7381182036929, 53.51750168815629, 53.28008867698746, 52.83470194519273, 52.08058179642583, 52.08058179642583, 50.84795011772313, 50.62452869987429, 49.998967184899314, 49.225720837185705, 48.730113759206326, 48.4881708368312, 45.45794449791167, 39.564168230745786, 38.18369980809463, 36.26737686051215, 35.80598831871308, 35.80598831871308, 34.86466570988431, 29.355353016131275, 27.152705091412624, 26.899038226626516, 143.81676177943154, 99.73280582625961, 66.3668430620412, 198.43982776174033, 2061.5776145217073, 124.95661398218225, 1187.4977910383716, 288.24247092831905, 326.1567894354708, 101.64049779920502, 192.2971879449584, 394.7655319895241, 167.17220357217525, 166.63593059780936, 166.0878240175573, 158.46409977159965, 156.47533560550283, 155.49980523403758, 153.74770052974614, 151.490943927337, 151.29462655352197, 150.77124926864866, 149.77689753335056, 50.37003992820771, 50.25502581084758, 40.2480537549323, 32.86984712328682, 32.68514530170498, 30.185020576838625, 29.466220679757754, 29.913313020798764, 23.790075759260503, 20.538494429170616, 20.637325313800936, 19.45145782042239, 14.100091513661084, 13.090953106536777, 12.118529188419869, 11.862755841787376, 11.799168787362811, 11.291714934397996, 11.124170691754845, 220.76628031229853, 218.81850635218254, 805.6202632458893, 209.13224195698484, 77.38961942114466, 394.7655319895241, 185.46665971120245, 2061.5776145217073, 49.057643989513245, 39.786503783984244, 1187.4977910383716, 326.1567894354708, 163.6490796478298, 192.2971879449584], \"Category\": [\"Default\", \"Default\", \"Default\", \"Default\", \"Default\", \"Default\", \"Default\", \"Default\", \"Default\", \"Default\", \"Default\", \"Default\", \"Default\", \"Default\", \"Default\", \"Default\", \"Default\", \"Default\", \"Default\", \"Default\", \"Default\", \"Default\", \"Default\", \"Default\", \"Default\", \"Default\", \"Default\", \"Default\", \"Default\", \"Default\", \"Topic1\", \"Topic1\", \"Topic1\", \"Topic1\", \"Topic1\", \"Topic1\", \"Topic1\", \"Topic1\", \"Topic1\", \"Topic1\", \"Topic1\", \"Topic1\", \"Topic1\", \"Topic1\", \"Topic1\", \"Topic1\", \"Topic1\", \"Topic1\", \"Topic1\", \"Topic1\", \"Topic1\", \"Topic1\", \"Topic1\", \"Topic1\", \"Topic1\", \"Topic1\", \"Topic1\", \"Topic1\", \"Topic1\", \"Topic1\", \"Topic1\", \"Topic1\", \"Topic1\", \"Topic1\", \"Topic1\", \"Topic1\", \"Topic1\", \"Topic1\", \"Topic1\", \"Topic1\", \"Topic1\", \"Topic1\", \"Topic1\", \"Topic1\", \"Topic1\", \"Topic2\", \"Topic2\", \"Topic2\", \"Topic2\", \"Topic2\", \"Topic2\", \"Topic2\", \"Topic2\", \"Topic2\", \"Topic2\", \"Topic2\", \"Topic2\", \"Topic2\", \"Topic2\", \"Topic2\", \"Topic2\", \"Topic2\", \"Topic2\", \"Topic2\", \"Topic2\", \"Topic2\", \"Topic2\", \"Topic2\", \"Topic2\", \"Topic2\", \"Topic2\", \"Topic2\", \"Topic2\", \"Topic2\", \"Topic2\", \"Topic2\", \"Topic2\", \"Topic2\", \"Topic2\", \"Topic2\", \"Topic2\", \"Topic2\", \"Topic2\", \"Topic2\", \"Topic2\", \"Topic2\", \"Topic3\", \"Topic3\", \"Topic3\", \"Topic3\", \"Topic3\", \"Topic3\", \"Topic3\", \"Topic3\", \"Topic3\", \"Topic3\", \"Topic3\", \"Topic3\", \"Topic3\", \"Topic3\", \"Topic3\", \"Topic3\", \"Topic3\", \"Topic3\", \"Topic3\", \"Topic3\", \"Topic3\", \"Topic3\", \"Topic3\", \"Topic3\", \"Topic3\", \"Topic3\", \"Topic3\", \"Topic3\", \"Topic3\", \"Topic3\", \"Topic3\", \"Topic3\", \"Topic3\", \"Topic3\", \"Topic3\", \"Topic3\", \"Topic3\", \"Topic3\", \"Topic3\", \"Topic3\", \"Topic3\", \"Topic3\", \"Topic3\", \"Topic3\", \"Topic3\", \"Topic3\", \"Topic3\", \"Topic3\", \"Topic4\", \"Topic4\", \"Topic4\", \"Topic4\", \"Topic4\", \"Topic4\", \"Topic4\", \"Topic4\", \"Topic4\", \"Topic4\", \"Topic4\", \"Topic4\", \"Topic4\", \"Topic4\", \"Topic4\", \"Topic4\", \"Topic4\", \"Topic4\", \"Topic4\", \"Topic4\", \"Topic4\", \"Topic4\", \"Topic4\", \"Topic4\", \"Topic4\", \"Topic4\", \"Topic4\", \"Topic4\", \"Topic4\", \"Topic4\", \"Topic4\", \"Topic4\", \"Topic4\", \"Topic4\", \"Topic4\", \"Topic4\", \"Topic4\", \"Topic4\", \"Topic4\", \"Topic4\", \"Topic4\", \"Topic4\", \"Topic5\", \"Topic5\", \"Topic5\", \"Topic5\", \"Topic5\", \"Topic5\", \"Topic5\", \"Topic5\", \"Topic5\", \"Topic5\", \"Topic5\", \"Topic5\", \"Topic5\", \"Topic5\", \"Topic5\", \"Topic5\", \"Topic5\", \"Topic5\", \"Topic5\", \"Topic5\", \"Topic5\", \"Topic5\", \"Topic5\", \"Topic5\", \"Topic5\", \"Topic5\", \"Topic5\", \"Topic5\", \"Topic5\", \"Topic5\", \"Topic5\", \"Topic5\", \"Topic5\", \"Topic5\", \"Topic5\", \"Topic5\", \"Topic5\", \"Topic5\", \"Topic5\", \"Topic5\", \"Topic5\", \"Topic5\", \"Topic5\", \"Topic5\"], \"logprob\": [30.0, 29.0, 28.0, 27.0, 26.0, 25.0, 24.0, 23.0, 22.0, 21.0, 20.0, 19.0, 18.0, 17.0, 16.0, 15.0, 14.0, 13.0, 12.0, 11.0, 10.0, 9.0, 8.0, 7.0, 6.0, 5.0, 4.0, 3.0, 2.0, 1.0, -4.2075, -4.4441, -4.5146, -4.6665, -4.7073, -4.7689, -4.7986, -4.8043, -4.7912, -4.8305, -4.8305, -4.8599, -4.9208, -4.9648, -5.0645, -5.1014, -5.1213, -5.1204, -5.158, -5.176, -5.2154, -5.2224, -5.2276, -5.2609, -5.2714, -5.2752, -5.2881, -5.2881, -5.2988, -5.2988, -4.3035, -4.9359, -4.5013, -1.9893, -3.7491, -4.286, -2.9956, -4.189, -3.9121, -4.1351, -4.4472, -4.8358, -4.7176, -4.8572, -4.9943, -3.7404, -4.1004, -4.1065, -4.1226, -4.1396, -4.1408, -4.1408, -4.1486, -4.1486, -4.3644, -4.3644, -4.3866, -4.3908, -4.3908, -4.3908, -4.3916, -4.4117, -4.4134, -4.415, -4.4356, -4.4356, -4.4356, -4.5702, -4.578, -4.6104, -4.6617, -4.6617, -5.173, -5.2044, -5.3973, -3.272, -3.3458, -3.8864, -3.2648, -2.8099, -3.6443, -3.3184, -4.1939, -3.2669, -4.1467, -4.124, -3.8674, -4.0651, -4.0647, -4.3137, -4.4653, -4.4898, -4.5811, -4.5965, -4.7959, -4.9014, -4.9388, -4.9576, -5.0903, -5.1478, -5.1653, -5.1754, -5.1691, -5.2337, -5.2456, -5.2918, -5.2918, -5.2918, -5.2897, -5.2963, -5.3623, -5.5867, -5.6204, -5.7385, -5.7614, -5.7948, -4.0211, -4.5774, -4.7853, -4.9215, -3.8216, -3.4712, -3.8941, -4.6763, -4.585, -3.285, -3.1822, -4.6847, -4.5853, -4.0402, -4.4274, -4.4581, -4.5387, -4.6777, -3.6657, -3.8611, -3.9728, -3.9787, -4.1257, -4.439, -4.5676, -4.6005, -4.635, -4.6579, -4.6624, -4.6709, -4.6855, -4.6855, -4.7098, -4.7143, -4.7269, -4.7427, -4.753, -4.758, -4.8237, -4.965, -5.0013, -5.0538, -5.0669, -5.0669, -5.0941, -5.2705, -5.3503, -5.36, -3.7447, -4.1585, -4.5831, -3.9351, -2.599, -4.371, -3.1523, -3.9567, -3.9166, -4.5048, -4.5592, -4.5042, -3.4593, -3.4625, -3.4658, -3.513, -3.5257, -3.532, -3.5434, -3.5582, -3.5595, -3.563, -3.5696, -4.6692, -4.672, -4.8977, -5.1042, -5.1099, -5.1917, -5.216, -5.2048, -5.4361, -5.5889, -5.5844, -5.6449, -5.9859, -6.061, -6.1421, -6.1649, -6.173, -6.2179, -6.2335, -3.4048, -3.461, -2.3528, -3.5692, -4.5249, -3.2974, -3.9187, -2.9744, -5.1506, -5.3122, -4.4593, -4.8956, -5.1614, -5.1595], \"loglift\": [30.0, 29.0, 28.0, 27.0, 26.0, 25.0, 24.0, 23.0, 22.0, 21.0, 20.0, 19.0, 18.0, 17.0, 16.0, 15.0, 14.0, 13.0, 12.0, 11.0, 10.0, 9.0, 8.0, 7.0, 6.0, 5.0, 4.0, 3.0, 2.0, 1.0, 1.4365, 1.4346, 1.4338, 1.4323, 1.4316, 1.431, 1.4306, 1.4306, 1.4305, 1.4302, 1.4302, 1.4296, 1.4289, 1.4282, 1.4266, 1.426, 1.4257, 1.4256, 1.4249, 1.4246, 1.4238, 1.4237, 1.4235, 1.423, 1.4227, 1.4226, 1.4224, 1.4224, 1.4222, 1.4222, 1.3727, 1.3746, 1.302, 0.65, 0.734, 0.9146, 0.1953, 0.8224, 0.4116, 0.4716, 0.6004, 0.6068, 0.2889, 0.5545, -0.7021, 1.6276, 1.6252, 1.6252, 1.625, 1.6249, 1.6249, 1.6249, 1.6248, 1.6248, 1.6228, 1.6228, 1.6226, 1.6225, 1.6225, 1.6225, 1.6225, 1.6223, 1.6223, 1.6223, 1.6221, 1.6221, 1.6221, 1.6204, 1.6204, 1.6199, 1.6192, 1.6192, 1.61, 1.6089, 1.604, 1.3605, 1.35, 1.4287, 1.059, 0.381, 0.8552, 0.2605, 1.118, -0.6277, 0.8333, 0.1682, 1.6399, 1.6385, 1.6385, 1.6362, 1.6346, 1.6343, 1.6332, 1.633, 1.6299, 1.6281, 1.6274, 1.6271, 1.6244, 1.6231, 1.6225, 1.6224, 1.6224, 1.621, 1.6207, 1.6195, 1.6195, 1.6195, 1.6195, 1.6193, 1.6174, 1.61, 1.6092, 1.6046, 1.6035, 1.602, 1.538, 1.5114, 1.5269, 1.5255, 1.3511, 1.0282, 1.1124, 1.3238, 1.1935, -0.0942, -0.543, 0.877, 0.7266, -0.4613, 0.2052, 0.2377, 0.3888, -0.071, 1.6415, 1.6403, 1.6396, 1.6395, 1.6384, 1.6353, 1.6338, 1.6333, 1.6329, 1.6326, 1.6325, 1.6324, 1.6322, 1.6322, 1.6318, 1.6318, 1.6316, 1.6314, 1.6312, 1.6311, 1.63, 1.6276, 1.6268, 1.6258, 1.6255, 1.6255, 1.6249, 1.6206, 1.6187, 1.6184, 1.5572, 1.5095, 1.4922, 1.0449, 0.0402, 1.0715, 0.0386, 0.6499, 0.5665, 1.1442, 0.4523, -0.212, 1.6922, 1.6922, 1.6922, 1.692, 1.6919, 1.6919, 1.6918, 1.6918, 1.6917, 1.6917, 1.6917, 1.6819, 1.6814, 1.6778, 1.6738, 1.6737, 1.6715, 1.6712, 1.6674, 1.6651, 1.6593, 1.659, 1.6577, 1.6384, 1.6376, 1.6337, 1.6322, 1.6295, 1.6286, 1.6279, 1.4686, 1.4213, 1.226, 1.3583, 1.3967, 0.9948, 1.129, -0.3352, 1.2269, 1.2747, -1.2684, -0.4125, 0.0113, -0.1481]}, \"token.table\": {\"Topic\": [1, 2, 4, 2, 3, 5, 1, 1, 5, 5, 1, 3, 4, 5, 2, 1, 3, 5, 3, 4, 1, 2, 5, 2, 2, 2, 3, 4, 5, 2, 4, 3, 1, 3, 1, 3, 4, 1, 2, 3, 4, 5, 1, 3, 5, 2, 1, 3, 4, 1, 2, 4, 1, 3, 5, 4, 5, 5, 5, 1, 4, 1, 2, 4, 4, 3, 2, 1, 1, 5, 5, 4, 5, 5, 1, 4, 5, 5, 1, 3, 1, 2, 3, 2, 3, 5, 5, 1, 3, 5, 1, 3, 5, 1, 2, 4, 5, 5, 5, 3, 3, 4, 3, 2, 1, 2, 2, 3, 2, 5, 1, 3, 3, 2, 4, 4, 3, 1, 1, 4, 3, 3, 1, 3, 4, 3, 5, 4, 5, 5, 1, 1, 3, 2, 3, 2, 4, 4, 1, 4, 2, 3, 1, 3, 4, 3, 1, 3, 3, 1, 2, 4, 1, 1, 5, 1, 2, 5, 4, 1, 4, 5, 1, 2, 1, 1, 4, 4, 4, 4, 5, 3, 1, 3, 5, 5, 3, 2, 5, 5, 1, 5, 3, 4, 4, 1, 2, 1, 1, 4, 2, 1, 5, 3, 1, 4, 2, 4, 5, 3, 2, 2, 3, 2, 3, 2, 3, 2, 3, 3, 2, 1, 2, 4, 5, 1, 4, 3, 2, 4, 1, 1, 2, 3, 4, 5, 4, 4, 1, 3, 4, 2, 3, 2, 2, 3, 2, 5, 3, 4, 4, 1, 2, 4, 5, 3, 4, 3, 3, 5, 2, 2], \"Freq\": [0.9692233767560826, 0.9937745123911983, 0.9842016342581322, 0.25322103887763764, 0.12164540102945337, 0.6243636399777046, 0.9682675468516312, 0.9891562230358139, 0.9926535708779439, 0.9691178336286276, 0.37815384960083287, 0.18040367136920465, 0.36774594548337874, 0.07285532882217881, 0.9918921278926035, 0.9898259424135598, 0.3669152967037665, 0.6319096776564868, 0.9867801391892711, 0.9857404248345258, 0.9668818559189147, 0.9883835843917088, 0.9694680084361188, 0.9863830130381663, 0.9807448298280826, 0.45813489535329166, 0.5391655571164589, 0.9800202435941312, 0.9735366240060614, 0.9933666012392508, 0.9865154625713256, 0.9883713004420155, 0.9916165229494497, 0.9904562957655121, 0.9771097936247466, 0.1203214920164254, 0.8723308171190841, 0.28715842890269533, 0.285474215243442, 0.1751582205623479, 0.20042142545114808, 0.05136851660722703, 0.9771097936247466, 0.9854528670809602, 0.9790380218481318, 0.9852443910097034, 0.9668818559189147, 0.9776299090464026, 0.9792517333878941, 0.5906251724370672, 0.10681519075989514, 0.30159583273382157, 0.06721699885921646, 0.7454976237113098, 0.18331908779786307, 0.989925974371043, 0.9689909538848359, 0.994884639661807, 0.984177791756035, 0.43214999413876515, 0.5601944368465475, 0.355557550191184, 0.5620946565522394, 0.07843181254217295, 0.9751993689806362, 0.9666531019506379, 0.9832071945713503, 0.9872614691115772, 0.934068034014005, 0.05718783881718398, 0.9077009122948101, 0.9887474196059117, 0.9934503084498096, 0.9219798316489475, 0.1356098856711717, 0.858862609250754, 0.8989434158370051, 0.9166635845642114, 0.9897386079442015, 0.973420589458891, 0.41126163016695017, 0.4733388573619615, 0.11639480099064628, 0.3583496368168504, 0.6383102905800148, 0.9322690604935884, 0.9969622330339574, 0.14166991867729106, 0.09596994491042299, 0.7586195645300102, 0.9887064345135621, 0.28211814423208526, 0.7124678557725542, 0.11652486418500363, 0.23051657914859414, 0.1570552517276136, 0.496497247396972, 0.9737812121025874, 0.9272718874691613, 0.9831959930303448, 0.8992194870202127, 0.0989141435722234, 0.9730420884516393, 0.9918921278926035, 0.9794031068450283, 0.9784499562165594, 0.9918921278926035, 0.9619848928167648, 0.9809309789503271, 0.9667896913294629, 0.10925294423332484, 0.8958741427132637, 0.9846625848957115, 0.9954238076586421, 0.9774901250724073, 0.9774901250724073, 0.9780548297199896, 0.9828009822847543, 0.9937931458737075, 0.9876635157716374, 0.9603746843112845, 0.984398181890693, 0.26554214218876554, 0.72674691546399, 0.9575473203302612, 0.9809003161574786, 0.996183712627115, 0.326743965003355, 0.65348793000671, 0.9948129681803726, 0.9956151627024395, 0.9942605044626935, 0.9709765249093123, 0.5969423440813157, 0.40030251308982356, 0.9880210711328643, 0.9792517333878941, 0.989932166373651, 0.8724273417875423, 0.12627237841661795, 0.9809309789503271, 0.973420589458891, 0.31565217784479427, 0.5847327228928155, 0.09831789145985395, 0.9713739795000101, 0.12218027477609951, 0.870534457779709, 0.9870991709012459, 0.9709267721520235, 0.9916099730133214, 0.9958895005915906, 0.9866584861545069, 0.43134437275449505, 0.5661394892402748, 0.9300178782645069, 0.06065333988681566, 0.9970712623725589, 0.9925269010694526, 0.5356292575088611, 0.3016164751020772, 0.15600852160452267, 0.9902667829301143, 0.9847908375912586, 0.9792071118461764, 0.9900618020850289, 0.9914101766140837, 0.9750999921110393, 0.9903302345619244, 0.9926276206426368, 0.9929880473719475, 0.963700571492524, 0.10418257701069174, 0.09512322248802288, 0.7972231979948585, 0.9607414355136168, 0.973420589458891, 0.995040304614971, 0.9967592523050586, 0.998052630418981, 0.24551096312548545, 0.7365328893764564, 0.08343950907755887, 0.9178345998531475, 0.9921798428791112, 0.9797979202168183, 0.9913825138142531, 0.9794031068450283, 0.9842100491954364, 0.9689998660673607, 0.9916099730133214, 0.991297354419073, 0.9750268596901869, 0.9841250993359806, 0.9954363172205224, 0.994743089136253, 0.44849867591529635, 0.5492848952221044, 0.9967858144048133, 0.9849156697561795, 0.9913825138142531, 0.9890362225099181, 0.9678348135513611, 0.7547437421275459, 0.24273165575961275, 0.531933874315065, 0.45980724728929345, 0.8172699269930718, 0.1831811905329299, 0.9836587577995068, 0.993816718432743, 0.9762711966449611, 0.9771248021419616, 0.9935184891911611, 0.9951368343905639, 0.9819284009673552, 0.9665773096029662, 0.9711439840424267, 0.995040770501212, 0.9850171956746481, 0.9894160019098422, 0.4520809662634152, 0.10428906410583076, 0.11205011073696236, 0.20081708158052994, 0.13096766190034562, 0.9833238092045017, 0.993141305329449, 0.2262877543696947, 0.1672561662732526, 0.6001544789804946, 0.7618841009634122, 0.23497360123170655, 0.9877387665840955, 0.9872441008511317, 0.9970810904909496, 0.9921688587880392, 0.9741655774970599, 0.9869202410003012, 0.987894779669793, 0.9934204714013136, 0.49056161080361493, 0.0459901510128389, 0.3403271174950078, 0.12264040270090373, 0.8783459071634513, 0.09547238121341861, 0.955916720596037, 0.9637960428499258, 0.9767905406067612, 0.9933666012392508, 0.9913825138142531], \"Term\": [\"1st\", \"action\", \"adverse\", \"africa\", \"africa\", \"africa\", \"afternoon\", \"agenda\", \"aipac\", \"american\", \"amp\", \"amp\", \"amp\", \"amp\", \"atlanta\", \"authority\", \"bad\", \"bad\", \"benefit\", \"biocubafarma\", \"bitunia\", \"blown\", \"book\", \"bus\", \"call\", \"case\", \"case\", \"cdc\", \"child\", \"code\", \"concern\", \"continent\", \"corona\", \"coronavirus\", \"courageous\", \"covid\", \"covid\", \"covid19\", \"covid19\", \"covid19\", \"covid19\", \"covid19\", \"crazy\", \"credit\", \"crisis\", \"critical\", \"crossing\", \"daily\", \"dailymonitor\", \"day\", \"day\", \"day\", \"death\", \"death\", \"death\", \"delta\", \"department\", \"desperate\", \"disastrous\", \"doctor\", \"doctor\", \"dose\", \"dose\", \"dose\", \"dozen\", \"drop\", \"easy\", \"effect\", \"efficacy\", \"efficacy\", \"ethical\", \"event\", \"expert\", \"fact\", \"failure\", \"failure\", \"fair\", \"fda\", \"flu\", \"fordnation\", \"full\", \"full\", \"full\", \"fullblown\", \"fullblown\", \"gaza\", \"germany\", \"good\", \"good\", \"good\", \"government\", \"head\", \"head\", \"health\", \"health\", \"health\", \"health\", \"healthcare\", \"healthy\", \"high\", \"hospital\", \"hospital\", \"hselive\", \"httpstcoammcmmctip\", \"httpstcobv3mn5xdle\", \"httpstcocemrzeidyr\", \"httpstcod2pdwips8o\", \"httpstcoipdmndwmpv\", \"httpstcokudpxpqq22\", \"httpstcosogiroihoc\", \"huge\", \"huge\", \"icu\", \"india\", \"indonesia\", \"infectious\", \"inpatient\", \"intervention\", \"israel\", \"issue\", \"jab\", \"jrigger\", \"june\", \"june\", \"large\", \"last\", \"leader\", \"life\", \"life\", \"lift\", \"lockdown\", \"medical\", \"michigan\", \"midst\", \"midst\", \"moetitshidi\", \"money\", \"monitoring\", \"more\", \"more\", \"muchneeded\", \"neighbour\", \"new\", \"new\", \"new\", \"next\", \"ontario\", \"ontario\", \"open\", \"order\", \"overwhelm\", \"oxygen\", \"pa\", \"palestinian\", \"palestinian\", \"pandemic\", \"pandemic\", \"patent\", \"patient\", \"people\", \"people\", \"people\", \"pfizer\", \"pleased\", \"policy\", \"politician\", \"possible\", \"potential\", \"ppe\", \"pregnant\", \"production\", \"progress\", \"public\", \"public\", \"public\", \"question\", \"qu\\u00e9bec\", \"rebound\", \"request\", \"restriction\", \"risk\", \"risk\", \"safe\", \"safe\", \"safety\", \"science\", \"search\", \"shingle\", \"side\", \"sinovac\", \"sobering\", \"solution\", \"south\", \"supply\", \"support\", \"sure\", \"system\", \"system\", \"technology\", \"test\", \"text\", \"thank\", \"thing\", \"third\", \"third\", \"time\", \"time\", \"today\", \"today\", \"total\", \"trajectory\", \"twitter\", \"uganda\", \"ugandan\", \"uk\", \"un\", \"unvaccinated\", \"update\", \"urgent\", \"usfda\", \"vaccinated\", \"vaccine\", \"vaccine\", \"vaccine\", \"vaccine\", \"vaccine\", \"vaer\", \"variant\", \"virus\", \"virus\", \"virus\", \"wave\", \"wave\", \"way\", \"wecandothis\", \"week\", \"welcome\", \"west\", \"whoafro\", \"woman\", \"worker\", \"world\", \"world\", \"world\", \"world\", \"year\", \"year\", \"yesterday\", \"york\", \"young\", \"zip\", \"\\ud83d\\udcf1\"]}, \"R\": 30, \"lambda.step\": 0.01, \"plot.opts\": {\"xlab\": \"PC1\", \"ylab\": \"PC2\"}, \"topic.order\": [5, 4, 1, 3, 2]};\n",
       "\n",
       "function LDAvis_load_lib(url, callback){\n",
       "  var s = document.createElement('script');\n",
       "  s.src = url;\n",
       "  s.async = true;\n",
       "  s.onreadystatechange = s.onload = callback;\n",
       "  s.onerror = function(){console.warn(\"failed to load library \" + url);};\n",
       "  document.getElementsByTagName(\"head\")[0].appendChild(s);\n",
       "}\n",
       "\n",
       "if(typeof(LDAvis) !== \"undefined\"){\n",
       "   // already loaded: just create the visualization\n",
       "   !function(LDAvis){\n",
       "       new LDAvis(\"#\" + \"ldavis_el139511400552623223847691341013\", ldavis_el139511400552623223847691341013_data);\n",
       "   }(LDAvis);\n",
       "}else if(typeof define === \"function\" && define.amd){\n",
       "   // require.js is available: use it to load d3/LDAvis\n",
       "   require.config({paths: {d3: \"https://d3js.org/d3.v5\"}});\n",
       "   require([\"d3\"], function(d3){\n",
       "      window.d3 = d3;\n",
       "      LDAvis_load_lib(\"https://cdn.jsdelivr.net/gh/bmabey/pyLDAvis@3.3.1/pyLDAvis/js/ldavis.v3.0.0.js\", function(){\n",
       "        new LDAvis(\"#\" + \"ldavis_el139511400552623223847691341013\", ldavis_el139511400552623223847691341013_data);\n",
       "      });\n",
       "    });\n",
       "}else{\n",
       "    // require.js not available: dynamically load d3 & LDAvis\n",
       "    LDAvis_load_lib(\"https://d3js.org/d3.v5.js\", function(){\n",
       "         LDAvis_load_lib(\"https://cdn.jsdelivr.net/gh/bmabey/pyLDAvis@3.3.1/pyLDAvis/js/ldavis.v3.0.0.js\", function(){\n",
       "                 new LDAvis(\"#\" + \"ldavis_el139511400552623223847691341013\", ldavis_el139511400552623223847691341013_data);\n",
       "            })\n",
       "         });\n",
       "}\n",
       "</script>"
      ],
      "text/plain": [
       "PreparedData(topic_coordinates=              x         y  topics  cluster       Freq\n",
       "topic                                                \n",
       "4     -0.157630 -0.025298       1        1  23.600084\n",
       "3      0.184731 -0.167963       2        1  19.529685\n",
       "0      0.155844 -0.046428       3        1  19.272469\n",
       "2     -0.238542 -0.071225       4        1  19.268114\n",
       "1      0.055596  0.310915       5        1  18.329649, topic_info=           Term        Freq        Total Category  logprob  loglift\n",
       "0        africa  805.000000   805.000000  Default  30.0000  30.0000\n",
       "1          case  320.000000   320.000000  Default  29.0000  29.0000\n",
       "11         wave  280.000000   280.000000  Default  28.0000  28.0000\n",
       "10        third  263.000000   263.000000  Default  27.0000  27.0000\n",
       "23   production  167.000000   167.000000  Default  26.0000  26.0000\n",
       "..          ...         ...          ...      ...      ...      ...\n",
       "219        life   26.091648    39.786504   Topic5  -5.3122   1.2747\n",
       "58      covid19   61.222524  1187.497791   Topic5  -4.4593  -1.2684\n",
       "193       world   39.575990   326.156789   Topic5  -4.8956  -0.4125\n",
       "4         death   30.337785   163.649080   Topic5  -5.1614   0.0113\n",
       "199      people   30.395822   192.297188   Topic5  -5.1595  -0.1481\n",
       "\n",
       "[250 rows x 6 columns], token_table=      Topic      Freq       Term\n",
       "term                            \n",
       "271       1  0.969223        1st\n",
       "126       2  0.993775     action\n",
       "411       4  0.984202    adverse\n",
       "0         2  0.253221     africa\n",
       "0         3  0.121645     africa\n",
       "...     ...       ...        ...\n",
       "371       3  0.955917  yesterday\n",
       "1190      3  0.963796       york\n",
       "437       5  0.976791      young\n",
       "82        2  0.993367        zip\n",
       "83        2  0.991383          📱\n",
       "\n",
       "[252 rows x 3 columns], R=30, lambda_step=0.01, plot_opts={'xlab': 'PC1', 'ylab': 'PC2'}, topic_order=[5, 4, 1, 3, 2])"
      ]
     },
     "execution_count": 27,
     "metadata": {},
     "output_type": "execute_result"
    }
   ],
   "source": [
    "import pyLDAvis.gensim_models as gensimvis\n",
    "import pickle \n",
    "import pyLDAvis\n",
    "# Visualize the topics\n",
    "pyLDAvis.enable_notebook()\n",
    "\n",
    "LDAvis_prepared = gensimvis.prepare(lda_model, doc_term_matrix, dictionary)\n",
    "LDAvis_prepared"
   ]
  },
  {
   "cell_type": "code",
   "execution_count": 28,
   "metadata": {},
   "outputs": [
    {
     "name": "stdout",
     "output_type": "stream",
     "text": [
      "\n",
      "Perplexity:  -5.307408717085273\n",
      "\n",
      "Coherence Score:  0.43362051310029537\n"
     ]
    }
   ],
   "source": [
    "print('\\nPerplexity: ', lda_model.log_perplexity(doc_term_matrix,total_docs=10000))  # a measure of how good the model is. lower the better.\n",
    "\n",
    "# Compute Coherence Score\n",
    "from gensim.models.coherencemodel import CoherenceModel\n",
    "coherence_model_lda = CoherenceModel(model=lda_model, texts=tokenized_reviews, dictionary=dictionary , coherence='c_v')\n",
    "coherence_lda = coherence_model_lda.get_coherence()\n",
    "print('\\nCoherence Score: ', coherence_lda)"
   ]
  },
  {
   "cell_type": "code",
   "execution_count": null,
   "metadata": {},
   "outputs": [],
   "source": []
  }
 ],
 "metadata": {
  "kernelspec": {
   "display_name": "Python 3",
   "language": "python",
   "name": "python3"
  },
  "language_info": {
   "codemirror_mode": {
    "name": "ipython",
    "version": 3
   },
   "file_extension": ".py",
   "mimetype": "text/x-python",
   "name": "python",
   "nbconvert_exporter": "python",
   "pygments_lexer": "ipython3",
   "version": "3.7.6"
  }
 },
 "nbformat": 4,
 "nbformat_minor": 4
}
